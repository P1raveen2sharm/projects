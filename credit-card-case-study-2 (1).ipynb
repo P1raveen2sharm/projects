{
 "cells": [
  {
   "cell_type": "code",
   "execution_count": 4,
   "id": "eed70633",
   "metadata": {
    "execution": {
     "iopub.execute_input": "2022-04-21T12:49:54.438669Z",
     "iopub.status.busy": "2022-04-21T12:49:54.437822Z",
     "iopub.status.idle": "2022-04-21T12:49:55.687301Z",
     "shell.execute_reply": "2022-04-21T12:49:55.686414Z"
    },
    "papermill": {
     "duration": 1.303954,
     "end_time": "2022-04-21T12:49:55.689969",
     "exception": false,
     "start_time": "2022-04-21T12:49:54.386015",
     "status": "completed"
    },
    "tags": []
   },
   "outputs": [],
   "source": [
    "# Import the necceasary packages\n",
    "\n",
    "# Numerical Operations\n",
    "import pandas as pd\n",
    "import numpy as np\n",
    "import os\n",
    "\n",
    "#Plotting\n",
    "import matplotlib.pyplot as plt\n",
    "import seaborn as sns\n",
    "\n",
    "#Remove warnings\n",
    "import warnings\n",
    "warnings.filterwarnings('ignore')\n",
    "\n",
    "#Date\n",
    "import datetime as dt\n",
    "\n",
    "# set the graphs to show in the jupyter notebook\n",
    "%matplotlib inline\n",
    "\n",
    "# set seabor graphs to a better style\n",
    "sns.set(style=\"ticks\")\n",
    "\n",
    "# for better visualization\n",
    "plt.style.use('ggplot')"
   ]
  },
  {
   "cell_type": "code",
   "execution_count": 8,
   "id": "44b27e7f",
   "metadata": {},
   "outputs": [
    {
     "name": "stdout",
     "output_type": "stream",
     "text": [
      "C:\\Users\\1234s\\Desktop\\python project for resume\\1\\Case Study 2 - Credit Card Case Study\n"
     ]
    }
   ],
   "source": [
    " %cd \"C:/Users/1234s/Desktop\\python project for resume/1/Case Study 2 - Credit Card Case Study\""
   ]
  },
  {
   "cell_type": "markdown",
   "id": "28675474",
   "metadata": {
    "papermill": {
     "duration": 0.048705,
     "end_time": "2022-04-21T12:49:55.785999",
     "exception": false,
     "start_time": "2022-04-21T12:49:55.737294",
     "status": "completed"
    },
    "tags": []
   },
   "source": [
    "## import the data sets"
   ]
  },
  {
   "cell_type": "markdown",
   "id": "2dab2970",
   "metadata": {
    "papermill": {
     "duration": 0.047643,
     "end_time": "2022-04-21T12:49:55.880685",
     "exception": false,
     "start_time": "2022-04-21T12:49:55.833042",
     "status": "completed"
    },
    "tags": []
   },
   "source": [
    "### customers"
   ]
  },
  {
   "cell_type": "code",
   "execution_count": 10,
   "id": "6eaa2c0e",
   "metadata": {
    "execution": {
     "iopub.execute_input": "2022-04-21T12:49:55.979075Z",
     "iopub.status.busy": "2022-04-21T12:49:55.978136Z",
     "iopub.status.idle": "2022-04-21T12:49:56.028717Z",
     "shell.execute_reply": "2022-04-21T12:49:56.027798Z"
    },
    "papermill": {
     "duration": 0.103626,
     "end_time": "2022-04-21T12:49:56.031947",
     "exception": false,
     "start_time": "2022-04-21T12:49:55.928321",
     "status": "completed"
    },
    "tags": []
   },
   "outputs": [
    {
     "data": {
      "text/html": [
       "<div>\n",
       "<style scoped>\n",
       "    .dataframe tbody tr th:only-of-type {\n",
       "        vertical-align: middle;\n",
       "    }\n",
       "\n",
       "    .dataframe tbody tr th {\n",
       "        vertical-align: top;\n",
       "    }\n",
       "\n",
       "    .dataframe thead th {\n",
       "        text-align: right;\n",
       "    }\n",
       "</style>\n",
       "<table border=\"1\" class=\"dataframe\">\n",
       "  <thead>\n",
       "    <tr style=\"text-align: right;\">\n",
       "      <th></th>\n",
       "      <th>Customer</th>\n",
       "      <th>Age</th>\n",
       "      <th>City</th>\n",
       "      <th>Product</th>\n",
       "      <th>Limit</th>\n",
       "      <th>Company</th>\n",
       "      <th>Segment</th>\n",
       "    </tr>\n",
       "    <tr>\n",
       "      <th>No</th>\n",
       "      <th></th>\n",
       "      <th></th>\n",
       "      <th></th>\n",
       "      <th></th>\n",
       "      <th></th>\n",
       "      <th></th>\n",
       "      <th></th>\n",
       "    </tr>\n",
       "  </thead>\n",
       "  <tbody>\n",
       "    <tr>\n",
       "      <th>1</th>\n",
       "      <td>A1</td>\n",
       "      <td>76</td>\n",
       "      <td>BANGALORE</td>\n",
       "      <td>Gold</td>\n",
       "      <td>500000.0</td>\n",
       "      <td>C1</td>\n",
       "      <td>Self Employed</td>\n",
       "    </tr>\n",
       "    <tr>\n",
       "      <th>2</th>\n",
       "      <td>A2</td>\n",
       "      <td>71</td>\n",
       "      <td>CALCUTTA</td>\n",
       "      <td>Silver</td>\n",
       "      <td>100000.0</td>\n",
       "      <td>C2</td>\n",
       "      <td>Salaried_MNC</td>\n",
       "    </tr>\n",
       "    <tr>\n",
       "      <th>3</th>\n",
       "      <td>A3</td>\n",
       "      <td>34</td>\n",
       "      <td>COCHIN</td>\n",
       "      <td>Platimum</td>\n",
       "      <td>10000.0</td>\n",
       "      <td>C3</td>\n",
       "      <td>Salaried_Pvt</td>\n",
       "    </tr>\n",
       "    <tr>\n",
       "      <th>4</th>\n",
       "      <td>A4</td>\n",
       "      <td>47</td>\n",
       "      <td>BOMBAY</td>\n",
       "      <td>Platimum</td>\n",
       "      <td>10001.0</td>\n",
       "      <td>C4</td>\n",
       "      <td>Govt</td>\n",
       "    </tr>\n",
       "    <tr>\n",
       "      <th>5</th>\n",
       "      <td>A5</td>\n",
       "      <td>56</td>\n",
       "      <td>BANGALORE</td>\n",
       "      <td>Platimum</td>\n",
       "      <td>10002.0</td>\n",
       "      <td>C5</td>\n",
       "      <td>Normal Salary</td>\n",
       "    </tr>\n",
       "    <tr>\n",
       "      <th>...</th>\n",
       "      <td>...</td>\n",
       "      <td>...</td>\n",
       "      <td>...</td>\n",
       "      <td>...</td>\n",
       "      <td>...</td>\n",
       "      <td>...</td>\n",
       "      <td>...</td>\n",
       "    </tr>\n",
       "    <tr>\n",
       "      <th>96</th>\n",
       "      <td>A96</td>\n",
       "      <td>54</td>\n",
       "      <td>CHENNAI</td>\n",
       "      <td>Silver</td>\n",
       "      <td>100000.0</td>\n",
       "      <td>C19</td>\n",
       "      <td>Salaried_Pvt</td>\n",
       "    </tr>\n",
       "    <tr>\n",
       "      <th>97</th>\n",
       "      <td>A97</td>\n",
       "      <td>58</td>\n",
       "      <td>TRIVANDRUM</td>\n",
       "      <td>Platimum</td>\n",
       "      <td>10000.0</td>\n",
       "      <td>C20</td>\n",
       "      <td>Govt</td>\n",
       "    </tr>\n",
       "    <tr>\n",
       "      <th>98</th>\n",
       "      <td>A98</td>\n",
       "      <td>51</td>\n",
       "      <td>CALCUTTA</td>\n",
       "      <td>Platimum</td>\n",
       "      <td>10001.0</td>\n",
       "      <td>C21</td>\n",
       "      <td>Normal Salary</td>\n",
       "    </tr>\n",
       "    <tr>\n",
       "      <th>99</th>\n",
       "      <td>A99</td>\n",
       "      <td>35</td>\n",
       "      <td>CALCUTTA</td>\n",
       "      <td>Platimum</td>\n",
       "      <td>10002.0</td>\n",
       "      <td>C22</td>\n",
       "      <td>Self Employed</td>\n",
       "    </tr>\n",
       "    <tr>\n",
       "      <th>100</th>\n",
       "      <td>A100</td>\n",
       "      <td>36</td>\n",
       "      <td>COCHIN</td>\n",
       "      <td>Silver</td>\n",
       "      <td>100000.0</td>\n",
       "      <td>C5</td>\n",
       "      <td>Salaried_MNC</td>\n",
       "    </tr>\n",
       "  </tbody>\n",
       "</table>\n",
       "<p>100 rows × 7 columns</p>\n",
       "</div>"
      ],
      "text/plain": [
       "    Customer  Age        City   Product     Limit Company        Segment\n",
       "No                                                                      \n",
       "1         A1   76   BANGALORE      Gold  500000.0      C1  Self Employed\n",
       "2         A2   71    CALCUTTA    Silver  100000.0      C2   Salaried_MNC\n",
       "3         A3   34      COCHIN  Platimum   10000.0      C3   Salaried_Pvt\n",
       "4         A4   47      BOMBAY  Platimum   10001.0      C4           Govt\n",
       "5         A5   56   BANGALORE  Platimum   10002.0      C5  Normal Salary\n",
       "..       ...  ...         ...       ...       ...     ...            ...\n",
       "96       A96   54     CHENNAI    Silver  100000.0     C19   Salaried_Pvt\n",
       "97       A97   58  TRIVANDRUM  Platimum   10000.0     C20           Govt\n",
       "98       A98   51    CALCUTTA  Platimum   10001.0     C21  Normal Salary\n",
       "99       A99   35    CALCUTTA  Platimum   10002.0     C22  Self Employed\n",
       "100     A100   36      COCHIN    Silver  100000.0      C5   Salaried_MNC\n",
       "\n",
       "[100 rows x 7 columns]"
      ]
     },
     "execution_count": 10,
     "metadata": {},
     "output_type": "execute_result"
    }
   ],
   "source": [
    "customer=pd.read_csv(\"Customer Acqusition.csv\",index_col=0)\n",
    "customer"
   ]
  },
  {
   "cell_type": "code",
   "execution_count": 11,
   "id": "24b6e429",
   "metadata": {
    "execution": {
     "iopub.execute_input": "2022-04-21T12:49:56.151889Z",
     "iopub.status.busy": "2022-04-21T12:49:56.151043Z",
     "iopub.status.idle": "2022-04-21T12:49:56.170752Z",
     "shell.execute_reply": "2022-04-21T12:49:56.169854Z"
    },
    "papermill": {
     "duration": 0.08328,
     "end_time": "2022-04-21T12:49:56.173508",
     "exception": false,
     "start_time": "2022-04-21T12:49:56.090228",
     "status": "completed"
    },
    "tags": []
   },
   "outputs": [
    {
     "name": "stdout",
     "output_type": "stream",
     "text": [
      "<class 'pandas.core.frame.DataFrame'>\n",
      "Int64Index: 100 entries, 1 to 100\n",
      "Data columns (total 7 columns):\n",
      " #   Column    Non-Null Count  Dtype  \n",
      "---  ------    --------------  -----  \n",
      " 0   Customer  100 non-null    object \n",
      " 1   Age       100 non-null    int64  \n",
      " 2   City      100 non-null    object \n",
      " 3   Product   100 non-null    object \n",
      " 4   Limit     100 non-null    float64\n",
      " 5   Company   100 non-null    object \n",
      " 6   Segment   100 non-null    object \n",
      "dtypes: float64(1), int64(1), object(5)\n",
      "memory usage: 6.2+ KB\n"
     ]
    }
   ],
   "source": [
    "customer.info()"
   ]
  },
  {
   "cell_type": "code",
   "execution_count": 12,
   "id": "c79dbb69",
   "metadata": {
    "execution": {
     "iopub.execute_input": "2022-04-21T12:49:56.272574Z",
     "iopub.status.busy": "2022-04-21T12:49:56.271995Z",
     "iopub.status.idle": "2022-04-21T12:49:56.279739Z",
     "shell.execute_reply": "2022-04-21T12:49:56.279038Z"
    },
    "papermill": {
     "duration": 0.058887,
     "end_time": "2022-04-21T12:49:56.281542",
     "exception": false,
     "start_time": "2022-04-21T12:49:56.222655",
     "status": "completed"
    },
    "tags": []
   },
   "outputs": [
    {
     "data": {
      "text/plain": [
       "Customer    0\n",
       "Age         0\n",
       "City        0\n",
       "Product     0\n",
       "Limit       0\n",
       "Company     0\n",
       "Segment     0\n",
       "dtype: int64"
      ]
     },
     "execution_count": 12,
     "metadata": {},
     "output_type": "execute_result"
    }
   ],
   "source": [
    "customer.isna().sum()"
   ]
  },
  {
   "cell_type": "markdown",
   "id": "aeef4888",
   "metadata": {
    "papermill": {
     "duration": 0.048876,
     "end_time": "2022-04-21T12:49:56.378785",
     "exception": false,
     "start_time": "2022-04-21T12:49:56.329909",
     "status": "completed"
    },
    "tags": []
   },
   "source": [
    "### spend"
   ]
  },
  {
   "cell_type": "code",
   "execution_count": 13,
   "id": "65d930c2",
   "metadata": {
    "execution": {
     "iopub.execute_input": "2022-04-21T12:49:56.480830Z",
     "iopub.status.busy": "2022-04-21T12:49:56.480295Z",
     "iopub.status.idle": "2022-04-21T12:49:56.504042Z",
     "shell.execute_reply": "2022-04-21T12:49:56.503441Z"
    },
    "papermill": {
     "duration": 0.075379,
     "end_time": "2022-04-21T12:49:56.505859",
     "exception": false,
     "start_time": "2022-04-21T12:49:56.430480",
     "status": "completed"
    },
    "tags": []
   },
   "outputs": [
    {
     "data": {
      "text/html": [
       "<div>\n",
       "<style scoped>\n",
       "    .dataframe tbody tr th:only-of-type {\n",
       "        vertical-align: middle;\n",
       "    }\n",
       "\n",
       "    .dataframe tbody tr th {\n",
       "        vertical-align: top;\n",
       "    }\n",
       "\n",
       "    .dataframe thead th {\n",
       "        text-align: right;\n",
       "    }\n",
       "</style>\n",
       "<table border=\"1\" class=\"dataframe\">\n",
       "  <thead>\n",
       "    <tr style=\"text-align: right;\">\n",
       "      <th></th>\n",
       "      <th>Customer</th>\n",
       "      <th>Month</th>\n",
       "      <th>Type</th>\n",
       "      <th>Amount</th>\n",
       "    </tr>\n",
       "    <tr>\n",
       "      <th>Sl No:</th>\n",
       "      <th></th>\n",
       "      <th></th>\n",
       "      <th></th>\n",
       "      <th></th>\n",
       "    </tr>\n",
       "  </thead>\n",
       "  <tbody>\n",
       "    <tr>\n",
       "      <th>1</th>\n",
       "      <td>A1</td>\n",
       "      <td>12-Jan-04</td>\n",
       "      <td>JEWELLERY</td>\n",
       "      <td>485470.80</td>\n",
       "    </tr>\n",
       "    <tr>\n",
       "      <th>2</th>\n",
       "      <td>A1</td>\n",
       "      <td>3-Jan-04</td>\n",
       "      <td>PETRO</td>\n",
       "      <td>410556.13</td>\n",
       "    </tr>\n",
       "    <tr>\n",
       "      <th>3</th>\n",
       "      <td>A1</td>\n",
       "      <td>15-Jan-04</td>\n",
       "      <td>CLOTHES</td>\n",
       "      <td>23740.46</td>\n",
       "    </tr>\n",
       "    <tr>\n",
       "      <th>4</th>\n",
       "      <td>A1</td>\n",
       "      <td>25-Jan-04</td>\n",
       "      <td>FOOD</td>\n",
       "      <td>484342.47</td>\n",
       "    </tr>\n",
       "    <tr>\n",
       "      <th>5</th>\n",
       "      <td>A1</td>\n",
       "      <td>17-Jan-05</td>\n",
       "      <td>CAMERA</td>\n",
       "      <td>369694.07</td>\n",
       "    </tr>\n",
       "    <tr>\n",
       "      <th>...</th>\n",
       "      <td>...</td>\n",
       "      <td>...</td>\n",
       "      <td>...</td>\n",
       "      <td>...</td>\n",
       "    </tr>\n",
       "    <tr>\n",
       "      <th>1496</th>\n",
       "      <td>A67</td>\n",
       "      <td>4-Feb-06</td>\n",
       "      <td>BUS TICKET</td>\n",
       "      <td>356872.73</td>\n",
       "    </tr>\n",
       "    <tr>\n",
       "      <th>1497</th>\n",
       "      <td>A68</td>\n",
       "      <td>25-Mar-06</td>\n",
       "      <td>BUS TICKET</td>\n",
       "      <td>204971.10</td>\n",
       "    </tr>\n",
       "    <tr>\n",
       "      <th>1498</th>\n",
       "      <td>A69</td>\n",
       "      <td>31-Mar-06</td>\n",
       "      <td>BUS TICKET</td>\n",
       "      <td>50449.44</td>\n",
       "    </tr>\n",
       "    <tr>\n",
       "      <th>1499</th>\n",
       "      <td>A70</td>\n",
       "      <td>23-Mar-06</td>\n",
       "      <td>BUS TICKET</td>\n",
       "      <td>80593.94</td>\n",
       "    </tr>\n",
       "    <tr>\n",
       "      <th>1500</th>\n",
       "      <td>A71</td>\n",
       "      <td>24-Mar-06</td>\n",
       "      <td>BUS TICKET</td>\n",
       "      <td>194447.62</td>\n",
       "    </tr>\n",
       "  </tbody>\n",
       "</table>\n",
       "<p>1500 rows × 4 columns</p>\n",
       "</div>"
      ],
      "text/plain": [
       "       Customer      Month        Type     Amount\n",
       "Sl No:                                           \n",
       "1            A1  12-Jan-04   JEWELLERY  485470.80\n",
       "2            A1   3-Jan-04       PETRO  410556.13\n",
       "3            A1  15-Jan-04     CLOTHES   23740.46\n",
       "4            A1  25-Jan-04        FOOD  484342.47\n",
       "5            A1  17-Jan-05      CAMERA  369694.07\n",
       "...         ...        ...         ...        ...\n",
       "1496        A67   4-Feb-06  BUS TICKET  356872.73\n",
       "1497        A68  25-Mar-06  BUS TICKET  204971.10\n",
       "1498        A69  31-Mar-06  BUS TICKET   50449.44\n",
       "1499        A70  23-Mar-06  BUS TICKET   80593.94\n",
       "1500        A71  24-Mar-06  BUS TICKET  194447.62\n",
       "\n",
       "[1500 rows x 4 columns]"
      ]
     },
     "execution_count": 13,
     "metadata": {},
     "output_type": "execute_result"
    }
   ],
   "source": [
    "spend=pd.read_csv(\"spend.csv\",index_col=0)\n",
    "spend"
   ]
  },
  {
   "cell_type": "code",
   "execution_count": 14,
   "id": "0b1e77f4",
   "metadata": {
    "execution": {
     "iopub.execute_input": "2022-04-21T12:49:56.605560Z",
     "iopub.status.busy": "2022-04-21T12:49:56.604984Z",
     "iopub.status.idle": "2022-04-21T12:49:56.616130Z",
     "shell.execute_reply": "2022-04-21T12:49:56.615296Z"
    },
    "papermill": {
     "duration": 0.06332,
     "end_time": "2022-04-21T12:49:56.618221",
     "exception": false,
     "start_time": "2022-04-21T12:49:56.554901",
     "status": "completed"
    },
    "tags": []
   },
   "outputs": [
    {
     "name": "stdout",
     "output_type": "stream",
     "text": [
      "<class 'pandas.core.frame.DataFrame'>\n",
      "Int64Index: 1500 entries, 1 to 1500\n",
      "Data columns (total 4 columns):\n",
      " #   Column    Non-Null Count  Dtype  \n",
      "---  ------    --------------  -----  \n",
      " 0   Customer  1500 non-null   object \n",
      " 1   Month     1500 non-null   object \n",
      " 2   Type      1500 non-null   object \n",
      " 3   Amount    1500 non-null   float64\n",
      "dtypes: float64(1), object(3)\n",
      "memory usage: 58.6+ KB\n"
     ]
    }
   ],
   "source": [
    "spend.info()"
   ]
  },
  {
   "cell_type": "code",
   "execution_count": 15,
   "id": "5d96d47b",
   "metadata": {
    "execution": {
     "iopub.execute_input": "2022-04-21T12:49:56.721249Z",
     "iopub.status.busy": "2022-04-21T12:49:56.720945Z",
     "iopub.status.idle": "2022-04-21T12:49:56.737832Z",
     "shell.execute_reply": "2022-04-21T12:49:56.736905Z"
    },
    "papermill": {
     "duration": 0.071146,
     "end_time": "2022-04-21T12:49:56.740140",
     "exception": false,
     "start_time": "2022-04-21T12:49:56.668994",
     "status": "completed"
    },
    "tags": []
   },
   "outputs": [],
   "source": [
    "spend.Month=pd.to_datetime(spend.Month)"
   ]
  },
  {
   "cell_type": "code",
   "execution_count": 16,
   "id": "9329343f",
   "metadata": {
    "execution": {
     "iopub.execute_input": "2022-04-21T12:49:56.841781Z",
     "iopub.status.busy": "2022-04-21T12:49:56.841470Z",
     "iopub.status.idle": "2022-04-21T12:49:56.850371Z",
     "shell.execute_reply": "2022-04-21T12:49:56.849538Z"
    },
    "papermill": {
     "duration": 0.0627,
     "end_time": "2022-04-21T12:49:56.852502",
     "exception": false,
     "start_time": "2022-04-21T12:49:56.789802",
     "status": "completed"
    },
    "tags": []
   },
   "outputs": [
    {
     "data": {
      "text/plain": [
       "Customer    0\n",
       "Month       0\n",
       "Type        0\n",
       "Amount      0\n",
       "dtype: int64"
      ]
     },
     "execution_count": 16,
     "metadata": {},
     "output_type": "execute_result"
    }
   ],
   "source": [
    "spend.isna().sum()"
   ]
  },
  {
   "cell_type": "markdown",
   "id": "fea9b018",
   "metadata": {
    "papermill": {
     "duration": 0.049392,
     "end_time": "2022-04-21T12:49:56.952289",
     "exception": false,
     "start_time": "2022-04-21T12:49:56.902897",
     "status": "completed"
    },
    "tags": []
   },
   "source": [
    "### repayment"
   ]
  },
  {
   "cell_type": "code",
   "execution_count": 17,
   "id": "2fd777aa",
   "metadata": {
    "execution": {
     "iopub.execute_input": "2022-04-21T12:49:57.053066Z",
     "iopub.status.busy": "2022-04-21T12:49:57.052760Z",
     "iopub.status.idle": "2022-04-21T12:49:57.082817Z",
     "shell.execute_reply": "2022-04-21T12:49:57.081828Z"
    },
    "papermill": {
     "duration": 0.08306,
     "end_time": "2022-04-21T12:49:57.085010",
     "exception": false,
     "start_time": "2022-04-21T12:49:57.001950",
     "status": "completed"
    },
    "tags": []
   },
   "outputs": [
    {
     "data": {
      "text/html": [
       "<div>\n",
       "<style scoped>\n",
       "    .dataframe tbody tr th:only-of-type {\n",
       "        vertical-align: middle;\n",
       "    }\n",
       "\n",
       "    .dataframe tbody tr th {\n",
       "        vertical-align: top;\n",
       "    }\n",
       "\n",
       "    .dataframe thead th {\n",
       "        text-align: right;\n",
       "    }\n",
       "</style>\n",
       "<table border=\"1\" class=\"dataframe\">\n",
       "  <thead>\n",
       "    <tr style=\"text-align: right;\">\n",
       "      <th></th>\n",
       "      <th>Customer</th>\n",
       "      <th>Month</th>\n",
       "      <th>Amount</th>\n",
       "    </tr>\n",
       "    <tr>\n",
       "      <th>SL No:</th>\n",
       "      <th></th>\n",
       "      <th></th>\n",
       "      <th></th>\n",
       "    </tr>\n",
       "  </thead>\n",
       "  <tbody>\n",
       "    <tr>\n",
       "      <th>NaN</th>\n",
       "      <td>A1</td>\n",
       "      <td>12-Jan-04</td>\n",
       "      <td>495414.75</td>\n",
       "    </tr>\n",
       "    <tr>\n",
       "      <th>2.0</th>\n",
       "      <td>A1</td>\n",
       "      <td>3-Jan-04</td>\n",
       "      <td>245899.02</td>\n",
       "    </tr>\n",
       "    <tr>\n",
       "      <th>3.0</th>\n",
       "      <td>A1</td>\n",
       "      <td>15-Jan-04</td>\n",
       "      <td>259490.06</td>\n",
       "    </tr>\n",
       "    <tr>\n",
       "      <th>4.0</th>\n",
       "      <td>A1</td>\n",
       "      <td>25-Jan-04</td>\n",
       "      <td>437555.12</td>\n",
       "    </tr>\n",
       "    <tr>\n",
       "      <th>5.0</th>\n",
       "      <td>A1</td>\n",
       "      <td>17-Jan-05</td>\n",
       "      <td>165972.88</td>\n",
       "    </tr>\n",
       "    <tr>\n",
       "      <th>...</th>\n",
       "      <td>...</td>\n",
       "      <td>...</td>\n",
       "      <td>...</td>\n",
       "    </tr>\n",
       "    <tr>\n",
       "      <th>1496.0</th>\n",
       "      <td>A67</td>\n",
       "      <td>9-May-05</td>\n",
       "      <td>55638.77</td>\n",
       "    </tr>\n",
       "    <tr>\n",
       "      <th>1497.0</th>\n",
       "      <td>A68</td>\n",
       "      <td>10-May-06</td>\n",
       "      <td>319836.49</td>\n",
       "    </tr>\n",
       "    <tr>\n",
       "      <th>1498.0</th>\n",
       "      <td>A69</td>\n",
       "      <td>11-Jul-06</td>\n",
       "      <td>247628.45</td>\n",
       "    </tr>\n",
       "    <tr>\n",
       "      <th>1499.0</th>\n",
       "      <td>A70</td>\n",
       "      <td>12-Aug-05</td>\n",
       "      <td>454016.51</td>\n",
       "    </tr>\n",
       "    <tr>\n",
       "      <th>1500.0</th>\n",
       "      <td>A71</td>\n",
       "      <td>13-Sep-04</td>\n",
       "      <td>56286.33</td>\n",
       "    </tr>\n",
       "  </tbody>\n",
       "</table>\n",
       "<p>1500 rows × 3 columns</p>\n",
       "</div>"
      ],
      "text/plain": [
       "       Customer      Month     Amount\n",
       "SL No:                               \n",
       "NaN          A1  12-Jan-04  495414.75\n",
       "2.0          A1   3-Jan-04  245899.02\n",
       "3.0          A1  15-Jan-04  259490.06\n",
       "4.0          A1  25-Jan-04  437555.12\n",
       "5.0          A1  17-Jan-05  165972.88\n",
       "...         ...        ...        ...\n",
       "1496.0      A67   9-May-05   55638.77\n",
       "1497.0      A68  10-May-06  319836.49\n",
       "1498.0      A69  11-Jul-06  247628.45\n",
       "1499.0      A70  12-Aug-05  454016.51\n",
       "1500.0      A71  13-Sep-04   56286.33\n",
       "\n",
       "[1500 rows x 3 columns]"
      ]
     },
     "execution_count": 17,
     "metadata": {},
     "output_type": "execute_result"
    }
   ],
   "source": [
    "repayment=pd.read_csv(\"Repayment.csv\",index_col=0)\n",
    "repayment=repayment.drop(repayment.columns[3],axis=1)\n",
    "repayment=repayment.dropna()\n",
    "repayment"
   ]
  },
  {
   "cell_type": "code",
   "execution_count": 18,
   "id": "7d178750",
   "metadata": {
    "execution": {
     "iopub.execute_input": "2022-04-21T12:49:57.188159Z",
     "iopub.status.busy": "2022-04-21T12:49:57.187868Z",
     "iopub.status.idle": "2022-04-21T12:49:57.199828Z",
     "shell.execute_reply": "2022-04-21T12:49:57.199210Z"
    },
    "papermill": {
     "duration": 0.06647,
     "end_time": "2022-04-21T12:49:57.202153",
     "exception": false,
     "start_time": "2022-04-21T12:49:57.135683",
     "status": "completed"
    },
    "tags": []
   },
   "outputs": [
    {
     "name": "stdout",
     "output_type": "stream",
     "text": [
      "<class 'pandas.core.frame.DataFrame'>\n",
      "Float64Index: 1500 entries, nan to 1500.0\n",
      "Data columns (total 3 columns):\n",
      " #   Column    Non-Null Count  Dtype  \n",
      "---  ------    --------------  -----  \n",
      " 0   Customer  1500 non-null   object \n",
      " 1   Month     1500 non-null   object \n",
      " 2   Amount    1500 non-null   float64\n",
      "dtypes: float64(1), object(2)\n",
      "memory usage: 46.9+ KB\n"
     ]
    }
   ],
   "source": [
    "repayment.info()"
   ]
  },
  {
   "cell_type": "code",
   "execution_count": 19,
   "id": "ec625582",
   "metadata": {
    "execution": {
     "iopub.execute_input": "2022-04-21T12:49:57.306156Z",
     "iopub.status.busy": "2022-04-21T12:49:57.305653Z",
     "iopub.status.idle": "2022-04-21T12:49:57.317536Z",
     "shell.execute_reply": "2022-04-21T12:49:57.316759Z"
    },
    "papermill": {
     "duration": 0.067113,
     "end_time": "2022-04-21T12:49:57.319989",
     "exception": false,
     "start_time": "2022-04-21T12:49:57.252876",
     "status": "completed"
    },
    "tags": []
   },
   "outputs": [],
   "source": [
    "repayment.Month=pd.to_datetime(repayment.Month)"
   ]
  },
  {
   "cell_type": "code",
   "execution_count": 20,
   "id": "00552249",
   "metadata": {
    "execution": {
     "iopub.execute_input": "2022-04-21T12:49:57.423058Z",
     "iopub.status.busy": "2022-04-21T12:49:57.422756Z",
     "iopub.status.idle": "2022-04-21T12:49:57.432022Z",
     "shell.execute_reply": "2022-04-21T12:49:57.431171Z"
    },
    "papermill": {
     "duration": 0.063648,
     "end_time": "2022-04-21T12:49:57.434248",
     "exception": false,
     "start_time": "2022-04-21T12:49:57.370600",
     "status": "completed"
    },
    "tags": []
   },
   "outputs": [
    {
     "data": {
      "text/plain": [
       "Customer    0\n",
       "Month       0\n",
       "Amount      0\n",
       "dtype: int64"
      ]
     },
     "execution_count": 20,
     "metadata": {},
     "output_type": "execute_result"
    }
   ],
   "source": [
    "repayment.isna().sum()"
   ]
  },
  {
   "cell_type": "markdown",
   "id": "830fd6d9",
   "metadata": {
    "papermill": {
     "duration": 0.051182,
     "end_time": "2022-04-21T12:49:57.541328",
     "exception": false,
     "start_time": "2022-04-21T12:49:57.490146",
     "status": "completed"
    },
    "tags": []
   },
   "source": [
    "## 1. In the above dataset,\n",
    "### a. In case age is less than 18, replace it with mean of age values"
   ]
  },
  {
   "cell_type": "code",
   "execution_count": 21,
   "id": "9cce9f1b",
   "metadata": {
    "execution": {
     "iopub.execute_input": "2022-04-21T12:49:57.646319Z",
     "iopub.status.busy": "2022-04-21T12:49:57.645855Z",
     "iopub.status.idle": "2022-04-21T12:49:57.652587Z",
     "shell.execute_reply": "2022-04-21T12:49:57.651651Z"
    },
    "papermill": {
     "duration": 0.061531,
     "end_time": "2022-04-21T12:49:57.654420",
     "exception": false,
     "start_time": "2022-04-21T12:49:57.592889",
     "status": "completed"
    },
    "tags": []
   },
   "outputs": [
    {
     "data": {
      "text/plain": [
       "6"
      ]
     },
     "execution_count": 21,
     "metadata": {},
     "output_type": "execute_result"
    }
   ],
   "source": [
    "(customer.Age<18).sum()"
   ]
  },
  {
   "cell_type": "code",
   "execution_count": 22,
   "id": "04553ee2",
   "metadata": {
    "execution": {
     "iopub.execute_input": "2022-04-21T12:49:57.759527Z",
     "iopub.status.busy": "2022-04-21T12:49:57.759227Z",
     "iopub.status.idle": "2022-04-21T12:49:57.779858Z",
     "shell.execute_reply": "2022-04-21T12:49:57.778986Z"
    },
    "papermill": {
     "duration": 0.076113,
     "end_time": "2022-04-21T12:49:57.782178",
     "exception": false,
     "start_time": "2022-04-21T12:49:57.706065",
     "status": "completed"
    },
    "tags": []
   },
   "outputs": [
    {
     "data": {
      "text/html": [
       "<div>\n",
       "<style scoped>\n",
       "    .dataframe tbody tr th:only-of-type {\n",
       "        vertical-align: middle;\n",
       "    }\n",
       "\n",
       "    .dataframe tbody tr th {\n",
       "        vertical-align: top;\n",
       "    }\n",
       "\n",
       "    .dataframe thead th {\n",
       "        text-align: right;\n",
       "    }\n",
       "</style>\n",
       "<table border=\"1\" class=\"dataframe\">\n",
       "  <thead>\n",
       "    <tr style=\"text-align: right;\">\n",
       "      <th></th>\n",
       "      <th>Customer</th>\n",
       "      <th>Age</th>\n",
       "      <th>City</th>\n",
       "      <th>Product</th>\n",
       "      <th>Limit</th>\n",
       "      <th>Company</th>\n",
       "      <th>Segment</th>\n",
       "    </tr>\n",
       "    <tr>\n",
       "      <th>No</th>\n",
       "      <th></th>\n",
       "      <th></th>\n",
       "      <th></th>\n",
       "      <th></th>\n",
       "      <th></th>\n",
       "      <th></th>\n",
       "      <th></th>\n",
       "    </tr>\n",
       "  </thead>\n",
       "  <tbody>\n",
       "    <tr>\n",
       "      <th>1</th>\n",
       "      <td>A1</td>\n",
       "      <td>76</td>\n",
       "      <td>BANGALORE</td>\n",
       "      <td>Gold</td>\n",
       "      <td>500000.0</td>\n",
       "      <td>C1</td>\n",
       "      <td>Self Employed</td>\n",
       "    </tr>\n",
       "    <tr>\n",
       "      <th>2</th>\n",
       "      <td>A2</td>\n",
       "      <td>71</td>\n",
       "      <td>CALCUTTA</td>\n",
       "      <td>Silver</td>\n",
       "      <td>100000.0</td>\n",
       "      <td>C2</td>\n",
       "      <td>Salaried_MNC</td>\n",
       "    </tr>\n",
       "    <tr>\n",
       "      <th>3</th>\n",
       "      <td>A3</td>\n",
       "      <td>34</td>\n",
       "      <td>COCHIN</td>\n",
       "      <td>Platimum</td>\n",
       "      <td>10000.0</td>\n",
       "      <td>C3</td>\n",
       "      <td>Salaried_Pvt</td>\n",
       "    </tr>\n",
       "    <tr>\n",
       "      <th>4</th>\n",
       "      <td>A4</td>\n",
       "      <td>47</td>\n",
       "      <td>BOMBAY</td>\n",
       "      <td>Platimum</td>\n",
       "      <td>10001.0</td>\n",
       "      <td>C4</td>\n",
       "      <td>Govt</td>\n",
       "    </tr>\n",
       "    <tr>\n",
       "      <th>5</th>\n",
       "      <td>A5</td>\n",
       "      <td>56</td>\n",
       "      <td>BANGALORE</td>\n",
       "      <td>Platimum</td>\n",
       "      <td>10002.0</td>\n",
       "      <td>C5</td>\n",
       "      <td>Normal Salary</td>\n",
       "    </tr>\n",
       "    <tr>\n",
       "      <th>...</th>\n",
       "      <td>...</td>\n",
       "      <td>...</td>\n",
       "      <td>...</td>\n",
       "      <td>...</td>\n",
       "      <td>...</td>\n",
       "      <td>...</td>\n",
       "      <td>...</td>\n",
       "    </tr>\n",
       "    <tr>\n",
       "      <th>96</th>\n",
       "      <td>A96</td>\n",
       "      <td>54</td>\n",
       "      <td>CHENNAI</td>\n",
       "      <td>Silver</td>\n",
       "      <td>100000.0</td>\n",
       "      <td>C19</td>\n",
       "      <td>Salaried_Pvt</td>\n",
       "    </tr>\n",
       "    <tr>\n",
       "      <th>97</th>\n",
       "      <td>A97</td>\n",
       "      <td>58</td>\n",
       "      <td>TRIVANDRUM</td>\n",
       "      <td>Platimum</td>\n",
       "      <td>10000.0</td>\n",
       "      <td>C20</td>\n",
       "      <td>Govt</td>\n",
       "    </tr>\n",
       "    <tr>\n",
       "      <th>98</th>\n",
       "      <td>A98</td>\n",
       "      <td>51</td>\n",
       "      <td>CALCUTTA</td>\n",
       "      <td>Platimum</td>\n",
       "      <td>10001.0</td>\n",
       "      <td>C21</td>\n",
       "      <td>Normal Salary</td>\n",
       "    </tr>\n",
       "    <tr>\n",
       "      <th>99</th>\n",
       "      <td>A99</td>\n",
       "      <td>35</td>\n",
       "      <td>CALCUTTA</td>\n",
       "      <td>Platimum</td>\n",
       "      <td>10002.0</td>\n",
       "      <td>C22</td>\n",
       "      <td>Self Employed</td>\n",
       "    </tr>\n",
       "    <tr>\n",
       "      <th>100</th>\n",
       "      <td>A100</td>\n",
       "      <td>36</td>\n",
       "      <td>COCHIN</td>\n",
       "      <td>Silver</td>\n",
       "      <td>100000.0</td>\n",
       "      <td>C5</td>\n",
       "      <td>Salaried_MNC</td>\n",
       "    </tr>\n",
       "  </tbody>\n",
       "</table>\n",
       "<p>100 rows × 7 columns</p>\n",
       "</div>"
      ],
      "text/plain": [
       "    Customer  Age        City   Product     Limit Company        Segment\n",
       "No                                                                      \n",
       "1         A1   76   BANGALORE      Gold  500000.0      C1  Self Employed\n",
       "2         A2   71    CALCUTTA    Silver  100000.0      C2   Salaried_MNC\n",
       "3         A3   34      COCHIN  Platimum   10000.0      C3   Salaried_Pvt\n",
       "4         A4   47      BOMBAY  Platimum   10001.0      C4           Govt\n",
       "5         A5   56   BANGALORE  Platimum   10002.0      C5  Normal Salary\n",
       "..       ...  ...         ...       ...       ...     ...            ...\n",
       "96       A96   54     CHENNAI    Silver  100000.0     C19   Salaried_Pvt\n",
       "97       A97   58  TRIVANDRUM  Platimum   10000.0     C20           Govt\n",
       "98       A98   51    CALCUTTA  Platimum   10001.0     C21  Normal Salary\n",
       "99       A99   35    CALCUTTA  Platimum   10002.0     C22  Self Employed\n",
       "100     A100   36      COCHIN    Silver  100000.0      C5   Salaried_MNC\n",
       "\n",
       "[100 rows x 7 columns]"
      ]
     },
     "execution_count": 22,
     "metadata": {},
     "output_type": "execute_result"
    }
   ],
   "source": [
    "age=lambda x:round(customer.Age.mean()) if x<18 else x\n",
    "customer.Age=customer.Age.apply(age)\n",
    "customer"
   ]
  },
  {
   "cell_type": "code",
   "execution_count": 23,
   "id": "7b79c440",
   "metadata": {
    "execution": {
     "iopub.execute_input": "2022-04-21T12:49:57.888909Z",
     "iopub.status.busy": "2022-04-21T12:49:57.888618Z",
     "iopub.status.idle": "2022-04-21T12:49:57.894633Z",
     "shell.execute_reply": "2022-04-21T12:49:57.894071Z"
    },
    "papermill": {
     "duration": 0.06195,
     "end_time": "2022-04-21T12:49:57.896590",
     "exception": false,
     "start_time": "2022-04-21T12:49:57.834640",
     "status": "completed"
    },
    "tags": []
   },
   "outputs": [
    {
     "data": {
      "text/plain": [
       "0"
      ]
     },
     "execution_count": 23,
     "metadata": {},
     "output_type": "execute_result"
    }
   ],
   "source": [
    "(customer.Age <18).sum()"
   ]
  },
  {
   "cell_type": "markdown",
   "id": "41aceb8a",
   "metadata": {
    "papermill": {
     "duration": 0.052449,
     "end_time": "2022-04-21T12:49:58.001781",
     "exception": false,
     "start_time": "2022-04-21T12:49:57.949332",
     "status": "completed"
    },
    "tags": []
   },
   "source": [
    "## b. In case spend amount is more than the limit, replace it with 50% of that customer’s limit.(customer’s limit provided in acquisition table is the per transaction limit on his card)"
   ]
  },
  {
   "cell_type": "code",
   "execution_count": 24,
   "id": "e1fac501",
   "metadata": {
    "execution": {
     "iopub.execute_input": "2022-04-21T12:49:58.110696Z",
     "iopub.status.busy": "2022-04-21T12:49:58.110336Z",
     "iopub.status.idle": "2022-04-21T12:49:58.154135Z",
     "shell.execute_reply": "2022-04-21T12:49:58.153282Z"
    },
    "papermill": {
     "duration": 0.101674,
     "end_time": "2022-04-21T12:49:58.156362",
     "exception": false,
     "start_time": "2022-04-21T12:49:58.054688",
     "status": "completed"
    },
    "tags": []
   },
   "outputs": [
    {
     "data": {
      "text/html": [
       "<div>\n",
       "<style scoped>\n",
       "    .dataframe tbody tr th:only-of-type {\n",
       "        vertical-align: middle;\n",
       "    }\n",
       "\n",
       "    .dataframe tbody tr th {\n",
       "        vertical-align: top;\n",
       "    }\n",
       "\n",
       "    .dataframe thead th {\n",
       "        text-align: right;\n",
       "    }\n",
       "</style>\n",
       "<table border=\"1\" class=\"dataframe\">\n",
       "  <thead>\n",
       "    <tr style=\"text-align: right;\">\n",
       "      <th></th>\n",
       "      <th>Customer</th>\n",
       "      <th>Age</th>\n",
       "      <th>City</th>\n",
       "      <th>Product</th>\n",
       "      <th>Limit</th>\n",
       "      <th>Company</th>\n",
       "      <th>Segment</th>\n",
       "      <th>Month</th>\n",
       "      <th>Type</th>\n",
       "      <th>Spend_Amount</th>\n",
       "    </tr>\n",
       "  </thead>\n",
       "  <tbody>\n",
       "    <tr>\n",
       "      <th>0</th>\n",
       "      <td>A1</td>\n",
       "      <td>76</td>\n",
       "      <td>BANGALORE</td>\n",
       "      <td>Gold</td>\n",
       "      <td>500000.0</td>\n",
       "      <td>C1</td>\n",
       "      <td>Self Employed</td>\n",
       "      <td>2004-01-12</td>\n",
       "      <td>JEWELLERY</td>\n",
       "      <td>485470.80</td>\n",
       "    </tr>\n",
       "    <tr>\n",
       "      <th>1</th>\n",
       "      <td>A1</td>\n",
       "      <td>76</td>\n",
       "      <td>BANGALORE</td>\n",
       "      <td>Gold</td>\n",
       "      <td>500000.0</td>\n",
       "      <td>C1</td>\n",
       "      <td>Self Employed</td>\n",
       "      <td>2004-01-03</td>\n",
       "      <td>PETRO</td>\n",
       "      <td>410556.13</td>\n",
       "    </tr>\n",
       "    <tr>\n",
       "      <th>2</th>\n",
       "      <td>A1</td>\n",
       "      <td>76</td>\n",
       "      <td>BANGALORE</td>\n",
       "      <td>Gold</td>\n",
       "      <td>500000.0</td>\n",
       "      <td>C1</td>\n",
       "      <td>Self Employed</td>\n",
       "      <td>2004-01-15</td>\n",
       "      <td>CLOTHES</td>\n",
       "      <td>23740.46</td>\n",
       "    </tr>\n",
       "    <tr>\n",
       "      <th>3</th>\n",
       "      <td>A1</td>\n",
       "      <td>76</td>\n",
       "      <td>BANGALORE</td>\n",
       "      <td>Gold</td>\n",
       "      <td>500000.0</td>\n",
       "      <td>C1</td>\n",
       "      <td>Self Employed</td>\n",
       "      <td>2004-01-25</td>\n",
       "      <td>FOOD</td>\n",
       "      <td>484342.47</td>\n",
       "    </tr>\n",
       "    <tr>\n",
       "      <th>4</th>\n",
       "      <td>A1</td>\n",
       "      <td>76</td>\n",
       "      <td>BANGALORE</td>\n",
       "      <td>Gold</td>\n",
       "      <td>500000.0</td>\n",
       "      <td>C1</td>\n",
       "      <td>Self Employed</td>\n",
       "      <td>2005-01-17</td>\n",
       "      <td>CAMERA</td>\n",
       "      <td>369694.07</td>\n",
       "    </tr>\n",
       "    <tr>\n",
       "      <th>...</th>\n",
       "      <td>...</td>\n",
       "      <td>...</td>\n",
       "      <td>...</td>\n",
       "      <td>...</td>\n",
       "      <td>...</td>\n",
       "      <td>...</td>\n",
       "      <td>...</td>\n",
       "      <td>...</td>\n",
       "      <td>...</td>\n",
       "      <td>...</td>\n",
       "    </tr>\n",
       "    <tr>\n",
       "      <th>1495</th>\n",
       "      <td>A96</td>\n",
       "      <td>54</td>\n",
       "      <td>CHENNAI</td>\n",
       "      <td>Silver</td>\n",
       "      <td>100000.0</td>\n",
       "      <td>C19</td>\n",
       "      <td>Salaried_Pvt</td>\n",
       "      <td>2004-01-25</td>\n",
       "      <td>BIKE</td>\n",
       "      <td>54729.66</td>\n",
       "    </tr>\n",
       "    <tr>\n",
       "      <th>1496</th>\n",
       "      <td>A97</td>\n",
       "      <td>58</td>\n",
       "      <td>TRIVANDRUM</td>\n",
       "      <td>Platimum</td>\n",
       "      <td>10000.0</td>\n",
       "      <td>C20</td>\n",
       "      <td>Govt</td>\n",
       "      <td>2004-01-12</td>\n",
       "      <td>AUTO</td>\n",
       "      <td>5000.00</td>\n",
       "    </tr>\n",
       "    <tr>\n",
       "      <th>1497</th>\n",
       "      <td>A98</td>\n",
       "      <td>51</td>\n",
       "      <td>CALCUTTA</td>\n",
       "      <td>Platimum</td>\n",
       "      <td>10001.0</td>\n",
       "      <td>C21</td>\n",
       "      <td>Normal Salary</td>\n",
       "      <td>2004-01-03</td>\n",
       "      <td>SHOPPING</td>\n",
       "      <td>5000.50</td>\n",
       "    </tr>\n",
       "    <tr>\n",
       "      <th>1498</th>\n",
       "      <td>A99</td>\n",
       "      <td>35</td>\n",
       "      <td>CALCUTTA</td>\n",
       "      <td>Platimum</td>\n",
       "      <td>10002.0</td>\n",
       "      <td>C22</td>\n",
       "      <td>Self Employed</td>\n",
       "      <td>2004-01-15</td>\n",
       "      <td>AIR TICKET</td>\n",
       "      <td>5001.00</td>\n",
       "    </tr>\n",
       "    <tr>\n",
       "      <th>1499</th>\n",
       "      <td>A100</td>\n",
       "      <td>36</td>\n",
       "      <td>COCHIN</td>\n",
       "      <td>Silver</td>\n",
       "      <td>100000.0</td>\n",
       "      <td>C5</td>\n",
       "      <td>Salaried_MNC</td>\n",
       "      <td>2004-01-25</td>\n",
       "      <td>BUS TICKET</td>\n",
       "      <td>50000.00</td>\n",
       "    </tr>\n",
       "  </tbody>\n",
       "</table>\n",
       "<p>1500 rows × 10 columns</p>\n",
       "</div>"
      ],
      "text/plain": [
       "     Customer  Age        City   Product     Limit Company        Segment  \\\n",
       "0          A1   76   BANGALORE      Gold  500000.0      C1  Self Employed   \n",
       "1          A1   76   BANGALORE      Gold  500000.0      C1  Self Employed   \n",
       "2          A1   76   BANGALORE      Gold  500000.0      C1  Self Employed   \n",
       "3          A1   76   BANGALORE      Gold  500000.0      C1  Self Employed   \n",
       "4          A1   76   BANGALORE      Gold  500000.0      C1  Self Employed   \n",
       "...       ...  ...         ...       ...       ...     ...            ...   \n",
       "1495      A96   54     CHENNAI    Silver  100000.0     C19   Salaried_Pvt   \n",
       "1496      A97   58  TRIVANDRUM  Platimum   10000.0     C20           Govt   \n",
       "1497      A98   51    CALCUTTA  Platimum   10001.0     C21  Normal Salary   \n",
       "1498      A99   35    CALCUTTA  Platimum   10002.0     C22  Self Employed   \n",
       "1499     A100   36      COCHIN    Silver  100000.0      C5   Salaried_MNC   \n",
       "\n",
       "          Month        Type  Spend_Amount  \n",
       "0    2004-01-12   JEWELLERY     485470.80  \n",
       "1    2004-01-03       PETRO     410556.13  \n",
       "2    2004-01-15     CLOTHES      23740.46  \n",
       "3    2004-01-25        FOOD     484342.47  \n",
       "4    2005-01-17      CAMERA     369694.07  \n",
       "...         ...         ...           ...  \n",
       "1495 2004-01-25        BIKE      54729.66  \n",
       "1496 2004-01-12        AUTO       5000.00  \n",
       "1497 2004-01-03    SHOPPING       5000.50  \n",
       "1498 2004-01-15  AIR TICKET       5001.00  \n",
       "1499 2004-01-25  BUS TICKET      50000.00  \n",
       "\n",
       "[1500 rows x 10 columns]"
      ]
     },
     "execution_count": 24,
     "metadata": {},
     "output_type": "execute_result"
    }
   ],
   "source": [
    "CS=pd.merge(left=customer,right=spend,on='Customer')\n",
    "CS.Amount=np.where(CS.Amount>CS.Limit,0.5*CS.Limit,CS.Amount)\n",
    "CS=CS.rename(columns={'Amount':'Spend_Amount'})\n",
    "CS"
   ]
  },
  {
   "cell_type": "code",
   "execution_count": 25,
   "id": "ea043c4a",
   "metadata": {
    "execution": {
     "iopub.execute_input": "2022-04-21T12:49:58.265941Z",
     "iopub.status.busy": "2022-04-21T12:49:58.265166Z",
     "iopub.status.idle": "2022-04-21T12:49:58.272708Z",
     "shell.execute_reply": "2022-04-21T12:49:58.271822Z"
    },
    "papermill": {
     "duration": 0.06455,
     "end_time": "2022-04-21T12:49:58.274615",
     "exception": false,
     "start_time": "2022-04-21T12:49:58.210065",
     "status": "completed"
    },
    "tags": []
   },
   "outputs": [
    {
     "data": {
      "text/plain": [
       "0"
      ]
     },
     "execution_count": 25,
     "metadata": {},
     "output_type": "execute_result"
    }
   ],
   "source": [
    "(CS.Spend_Amount>CS.Limit).sum()"
   ]
  },
  {
   "cell_type": "markdown",
   "id": "6bd26bd0",
   "metadata": {
    "papermill": {
     "duration": 0.053861,
     "end_time": "2022-04-21T12:49:58.382895",
     "exception": false,
     "start_time": "2022-04-21T12:49:58.329034",
     "status": "completed"
    },
    "tags": []
   },
   "source": [
    "###  c. Incase the repayment amount is more than the limit, replace the repayment with the limit."
   ]
  },
  {
   "cell_type": "code",
   "execution_count": 26,
   "id": "ff706841",
   "metadata": {
    "execution": {
     "iopub.execute_input": "2022-04-21T12:49:58.493050Z",
     "iopub.status.busy": "2022-04-21T12:49:58.492259Z",
     "iopub.status.idle": "2022-04-21T12:49:58.522159Z",
     "shell.execute_reply": "2022-04-21T12:49:58.521355Z"
    },
    "papermill": {
     "duration": 0.08739,
     "end_time": "2022-04-21T12:49:58.524271",
     "exception": false,
     "start_time": "2022-04-21T12:49:58.436881",
     "status": "completed"
    },
    "tags": []
   },
   "outputs": [
    {
     "data": {
      "text/html": [
       "<div>\n",
       "<style scoped>\n",
       "    .dataframe tbody tr th:only-of-type {\n",
       "        vertical-align: middle;\n",
       "    }\n",
       "\n",
       "    .dataframe tbody tr th {\n",
       "        vertical-align: top;\n",
       "    }\n",
       "\n",
       "    .dataframe thead th {\n",
       "        text-align: right;\n",
       "    }\n",
       "</style>\n",
       "<table border=\"1\" class=\"dataframe\">\n",
       "  <thead>\n",
       "    <tr style=\"text-align: right;\">\n",
       "      <th></th>\n",
       "      <th>Customer</th>\n",
       "      <th>Age</th>\n",
       "      <th>City</th>\n",
       "      <th>Product</th>\n",
       "      <th>Limit</th>\n",
       "      <th>Company</th>\n",
       "      <th>Segment</th>\n",
       "      <th>Month</th>\n",
       "      <th>Repayment_Amount</th>\n",
       "    </tr>\n",
       "  </thead>\n",
       "  <tbody>\n",
       "    <tr>\n",
       "      <th>0</th>\n",
       "      <td>A1</td>\n",
       "      <td>76</td>\n",
       "      <td>BANGALORE</td>\n",
       "      <td>Gold</td>\n",
       "      <td>500000.0</td>\n",
       "      <td>C1</td>\n",
       "      <td>Self Employed</td>\n",
       "      <td>2004-01-12</td>\n",
       "      <td>495414.75</td>\n",
       "    </tr>\n",
       "    <tr>\n",
       "      <th>1</th>\n",
       "      <td>A1</td>\n",
       "      <td>76</td>\n",
       "      <td>BANGALORE</td>\n",
       "      <td>Gold</td>\n",
       "      <td>500000.0</td>\n",
       "      <td>C1</td>\n",
       "      <td>Self Employed</td>\n",
       "      <td>2004-01-03</td>\n",
       "      <td>245899.02</td>\n",
       "    </tr>\n",
       "    <tr>\n",
       "      <th>2</th>\n",
       "      <td>A1</td>\n",
       "      <td>76</td>\n",
       "      <td>BANGALORE</td>\n",
       "      <td>Gold</td>\n",
       "      <td>500000.0</td>\n",
       "      <td>C1</td>\n",
       "      <td>Self Employed</td>\n",
       "      <td>2004-01-15</td>\n",
       "      <td>259490.06</td>\n",
       "    </tr>\n",
       "    <tr>\n",
       "      <th>3</th>\n",
       "      <td>A1</td>\n",
       "      <td>76</td>\n",
       "      <td>BANGALORE</td>\n",
       "      <td>Gold</td>\n",
       "      <td>500000.0</td>\n",
       "      <td>C1</td>\n",
       "      <td>Self Employed</td>\n",
       "      <td>2004-01-25</td>\n",
       "      <td>437555.12</td>\n",
       "    </tr>\n",
       "    <tr>\n",
       "      <th>4</th>\n",
       "      <td>A1</td>\n",
       "      <td>76</td>\n",
       "      <td>BANGALORE</td>\n",
       "      <td>Gold</td>\n",
       "      <td>500000.0</td>\n",
       "      <td>C1</td>\n",
       "      <td>Self Employed</td>\n",
       "      <td>2005-01-17</td>\n",
       "      <td>165972.88</td>\n",
       "    </tr>\n",
       "    <tr>\n",
       "      <th>...</th>\n",
       "      <td>...</td>\n",
       "      <td>...</td>\n",
       "      <td>...</td>\n",
       "      <td>...</td>\n",
       "      <td>...</td>\n",
       "      <td>...</td>\n",
       "      <td>...</td>\n",
       "      <td>...</td>\n",
       "      <td>...</td>\n",
       "    </tr>\n",
       "    <tr>\n",
       "      <th>1495</th>\n",
       "      <td>A96</td>\n",
       "      <td>54</td>\n",
       "      <td>CHENNAI</td>\n",
       "      <td>Silver</td>\n",
       "      <td>100000.0</td>\n",
       "      <td>C19</td>\n",
       "      <td>Salaried_Pvt</td>\n",
       "      <td>2004-01-25</td>\n",
       "      <td>100000.00</td>\n",
       "    </tr>\n",
       "    <tr>\n",
       "      <th>1496</th>\n",
       "      <td>A97</td>\n",
       "      <td>58</td>\n",
       "      <td>TRIVANDRUM</td>\n",
       "      <td>Platimum</td>\n",
       "      <td>10000.0</td>\n",
       "      <td>C20</td>\n",
       "      <td>Govt</td>\n",
       "      <td>2004-01-12</td>\n",
       "      <td>10000.00</td>\n",
       "    </tr>\n",
       "    <tr>\n",
       "      <th>1497</th>\n",
       "      <td>A98</td>\n",
       "      <td>51</td>\n",
       "      <td>CALCUTTA</td>\n",
       "      <td>Platimum</td>\n",
       "      <td>10001.0</td>\n",
       "      <td>C21</td>\n",
       "      <td>Normal Salary</td>\n",
       "      <td>2004-01-03</td>\n",
       "      <td>10001.00</td>\n",
       "    </tr>\n",
       "    <tr>\n",
       "      <th>1498</th>\n",
       "      <td>A99</td>\n",
       "      <td>35</td>\n",
       "      <td>CALCUTTA</td>\n",
       "      <td>Platimum</td>\n",
       "      <td>10002.0</td>\n",
       "      <td>C22</td>\n",
       "      <td>Self Employed</td>\n",
       "      <td>2004-01-15</td>\n",
       "      <td>10002.00</td>\n",
       "    </tr>\n",
       "    <tr>\n",
       "      <th>1499</th>\n",
       "      <td>A100</td>\n",
       "      <td>36</td>\n",
       "      <td>COCHIN</td>\n",
       "      <td>Silver</td>\n",
       "      <td>100000.0</td>\n",
       "      <td>C5</td>\n",
       "      <td>Salaried_MNC</td>\n",
       "      <td>2004-01-25</td>\n",
       "      <td>69551.19</td>\n",
       "    </tr>\n",
       "  </tbody>\n",
       "</table>\n",
       "<p>1500 rows × 9 columns</p>\n",
       "</div>"
      ],
      "text/plain": [
       "     Customer  Age        City   Product     Limit Company        Segment  \\\n",
       "0          A1   76   BANGALORE      Gold  500000.0      C1  Self Employed   \n",
       "1          A1   76   BANGALORE      Gold  500000.0      C1  Self Employed   \n",
       "2          A1   76   BANGALORE      Gold  500000.0      C1  Self Employed   \n",
       "3          A1   76   BANGALORE      Gold  500000.0      C1  Self Employed   \n",
       "4          A1   76   BANGALORE      Gold  500000.0      C1  Self Employed   \n",
       "...       ...  ...         ...       ...       ...     ...            ...   \n",
       "1495      A96   54     CHENNAI    Silver  100000.0     C19   Salaried_Pvt   \n",
       "1496      A97   58  TRIVANDRUM  Platimum   10000.0     C20           Govt   \n",
       "1497      A98   51    CALCUTTA  Platimum   10001.0     C21  Normal Salary   \n",
       "1498      A99   35    CALCUTTA  Platimum   10002.0     C22  Self Employed   \n",
       "1499     A100   36      COCHIN    Silver  100000.0      C5   Salaried_MNC   \n",
       "\n",
       "          Month  Repayment_Amount  \n",
       "0    2004-01-12         495414.75  \n",
       "1    2004-01-03         245899.02  \n",
       "2    2004-01-15         259490.06  \n",
       "3    2004-01-25         437555.12  \n",
       "4    2005-01-17         165972.88  \n",
       "...         ...               ...  \n",
       "1495 2004-01-25         100000.00  \n",
       "1496 2004-01-12          10000.00  \n",
       "1497 2004-01-03          10001.00  \n",
       "1498 2004-01-15          10002.00  \n",
       "1499 2004-01-25          69551.19  \n",
       "\n",
       "[1500 rows x 9 columns]"
      ]
     },
     "execution_count": 26,
     "metadata": {},
     "output_type": "execute_result"
    }
   ],
   "source": [
    "CR=pd.merge(left=customer,right=repayment,on='Customer')\n",
    "CR.Amount=np.where(CR.Amount>CR.Limit,CR.Limit,CR.Amount)\n",
    "CR=CR.rename(columns={'Amount':'Repayment_Amount'})\n",
    "CR"
   ]
  },
  {
   "cell_type": "code",
   "execution_count": 27,
   "id": "02415434",
   "metadata": {
    "execution": {
     "iopub.execute_input": "2022-04-21T12:49:58.635815Z",
     "iopub.status.busy": "2022-04-21T12:49:58.635208Z",
     "iopub.status.idle": "2022-04-21T12:49:58.641772Z",
     "shell.execute_reply": "2022-04-21T12:49:58.641038Z"
    },
    "papermill": {
     "duration": 0.064324,
     "end_time": "2022-04-21T12:49:58.643684",
     "exception": false,
     "start_time": "2022-04-21T12:49:58.579360",
     "status": "completed"
    },
    "tags": []
   },
   "outputs": [
    {
     "data": {
      "text/plain": [
       "0"
      ]
     },
     "execution_count": 27,
     "metadata": {},
     "output_type": "execute_result"
    }
   ],
   "source": [
    "(CR.Repayment_Amount>CR.Limit).sum()"
   ]
  },
  {
   "cell_type": "markdown",
   "id": "f1f59e19",
   "metadata": {
    "papermill": {
     "duration": 0.054346,
     "end_time": "2022-04-21T12:49:58.754354",
     "exception": false,
     "start_time": "2022-04-21T12:49:58.700008",
     "status": "completed"
    },
    "tags": []
   },
   "source": [
    "## 2. From the above dataset create the following summaries:\n",
    "### a. How many distinct customers exist?"
   ]
  },
  {
   "cell_type": "code",
   "execution_count": 28,
   "id": "d557541f",
   "metadata": {
    "execution": {
     "iopub.execute_input": "2022-04-21T12:49:58.866974Z",
     "iopub.status.busy": "2022-04-21T12:49:58.866485Z",
     "iopub.status.idle": "2022-04-21T12:49:58.871327Z",
     "shell.execute_reply": "2022-04-21T12:49:58.870440Z"
    },
    "papermill": {
     "duration": 0.063463,
     "end_time": "2022-04-21T12:49:58.873225",
     "exception": false,
     "start_time": "2022-04-21T12:49:58.809762",
     "status": "completed"
    },
    "tags": []
   },
   "outputs": [
    {
     "name": "stdout",
     "output_type": "stream",
     "text": [
      "Number of distint customers :  100\n"
     ]
    }
   ],
   "source": [
    "print('Number of distint customers : ',customer.Customer.nunique())"
   ]
  },
  {
   "cell_type": "markdown",
   "id": "185ded10",
   "metadata": {
    "papermill": {
     "duration": 0.054801,
     "end_time": "2022-04-21T12:49:58.984118",
     "exception": false,
     "start_time": "2022-04-21T12:49:58.929317",
     "status": "completed"
    },
    "tags": []
   },
   "source": [
    "### b. How many distinct categories exist?"
   ]
  },
  {
   "cell_type": "code",
   "execution_count": 29,
   "id": "60874057",
   "metadata": {
    "execution": {
     "iopub.execute_input": "2022-04-21T12:49:59.109949Z",
     "iopub.status.busy": "2022-04-21T12:49:59.109399Z",
     "iopub.status.idle": "2022-04-21T12:49:59.115755Z",
     "shell.execute_reply": "2022-04-21T12:49:59.114882Z"
    },
    "papermill": {
     "duration": 0.078309,
     "end_time": "2022-04-21T12:49:59.117994",
     "exception": false,
     "start_time": "2022-04-21T12:49:59.039685",
     "status": "completed"
    },
    "tags": []
   },
   "outputs": [
    {
     "name": "stdout",
     "output_type": "stream",
     "text": [
      "Number of distint categories :  3\n",
      "No\n",
      "1        Gold\n",
      "2      Silver\n",
      "3    Platimum\n",
      "Name: Product, dtype: object\n"
     ]
    }
   ],
   "source": [
    "print('Number of distint categories : ',customer.Product.nunique())\n",
    "print(customer.Product.drop_duplicates())"
   ]
  },
  {
   "cell_type": "markdown",
   "id": "7abf5e56",
   "metadata": {
    "papermill": {
     "duration": 0.055547,
     "end_time": "2022-04-21T12:49:59.230235",
     "exception": false,
     "start_time": "2022-04-21T12:49:59.174688",
     "status": "completed"
    },
    "tags": []
   },
   "source": [
    "### c. What is the average monthly spend by customers?"
   ]
  },
  {
   "cell_type": "code",
   "execution_count": 30,
   "id": "660b0735",
   "metadata": {
    "execution": {
     "iopub.execute_input": "2022-04-21T12:49:59.343699Z",
     "iopub.status.busy": "2022-04-21T12:49:59.342988Z",
     "iopub.status.idle": "2022-04-21T12:49:59.366653Z",
     "shell.execute_reply": "2022-04-21T12:49:59.365729Z"
    },
    "papermill": {
     "duration": 0.083414,
     "end_time": "2022-04-21T12:49:59.369356",
     "exception": false,
     "start_time": "2022-04-21T12:49:59.285942",
     "status": "completed"
    },
    "tags": []
   },
   "outputs": [
    {
     "data": {
      "text/html": [
       "<div>\n",
       "<style scoped>\n",
       "    .dataframe tbody tr th:only-of-type {\n",
       "        vertical-align: middle;\n",
       "    }\n",
       "\n",
       "    .dataframe tbody tr th {\n",
       "        vertical-align: top;\n",
       "    }\n",
       "\n",
       "    .dataframe thead th {\n",
       "        text-align: right;\n",
       "    }\n",
       "</style>\n",
       "<table border=\"1\" class=\"dataframe\">\n",
       "  <thead>\n",
       "    <tr style=\"text-align: right;\">\n",
       "      <th></th>\n",
       "      <th>Year</th>\n",
       "      <th>Month</th>\n",
       "      <th>Spend_Amount</th>\n",
       "    </tr>\n",
       "  </thead>\n",
       "  <tbody>\n",
       "    <tr>\n",
       "      <th>0</th>\n",
       "      <td>2004</td>\n",
       "      <td>April</td>\n",
       "      <td>124621.976429</td>\n",
       "    </tr>\n",
       "    <tr>\n",
       "      <th>1</th>\n",
       "      <td>2004</td>\n",
       "      <td>February</td>\n",
       "      <td>136998.280000</td>\n",
       "    </tr>\n",
       "    <tr>\n",
       "      <th>2</th>\n",
       "      <td>2004</td>\n",
       "      <td>January</td>\n",
       "      <td>144233.915179</td>\n",
       "    </tr>\n",
       "    <tr>\n",
       "      <th>3</th>\n",
       "      <td>2004</td>\n",
       "      <td>March</td>\n",
       "      <td>133708.090714</td>\n",
       "    </tr>\n",
       "    <tr>\n",
       "      <th>4</th>\n",
       "      <td>2004</td>\n",
       "      <td>May</td>\n",
       "      <td>153326.954286</td>\n",
       "    </tr>\n",
       "    <tr>\n",
       "      <th>5</th>\n",
       "      <td>2004</td>\n",
       "      <td>November</td>\n",
       "      <td>79642.078571</td>\n",
       "    </tr>\n",
       "    <tr>\n",
       "      <th>6</th>\n",
       "      <td>2004</td>\n",
       "      <td>September</td>\n",
       "      <td>171579.263571</td>\n",
       "    </tr>\n",
       "    <tr>\n",
       "      <th>7</th>\n",
       "      <td>2005</td>\n",
       "      <td>April</td>\n",
       "      <td>146430.918929</td>\n",
       "    </tr>\n",
       "    <tr>\n",
       "      <th>8</th>\n",
       "      <td>2005</td>\n",
       "      <td>August</td>\n",
       "      <td>141707.435357</td>\n",
       "    </tr>\n",
       "    <tr>\n",
       "      <th>9</th>\n",
       "      <td>2005</td>\n",
       "      <td>December</td>\n",
       "      <td>84416.000000</td>\n",
       "    </tr>\n",
       "    <tr>\n",
       "      <th>10</th>\n",
       "      <td>2005</td>\n",
       "      <td>February</td>\n",
       "      <td>154334.423869</td>\n",
       "    </tr>\n",
       "    <tr>\n",
       "      <th>11</th>\n",
       "      <td>2005</td>\n",
       "      <td>January</td>\n",
       "      <td>192271.670714</td>\n",
       "    </tr>\n",
       "    <tr>\n",
       "      <th>12</th>\n",
       "      <td>2005</td>\n",
       "      <td>July</td>\n",
       "      <td>120803.091429</td>\n",
       "    </tr>\n",
       "    <tr>\n",
       "      <th>13</th>\n",
       "      <td>2005</td>\n",
       "      <td>June</td>\n",
       "      <td>190726.475714</td>\n",
       "    </tr>\n",
       "    <tr>\n",
       "      <th>14</th>\n",
       "      <td>2005</td>\n",
       "      <td>May</td>\n",
       "      <td>154625.803000</td>\n",
       "    </tr>\n",
       "    <tr>\n",
       "      <th>15</th>\n",
       "      <td>2005</td>\n",
       "      <td>November</td>\n",
       "      <td>178120.211667</td>\n",
       "    </tr>\n",
       "    <tr>\n",
       "      <th>16</th>\n",
       "      <td>2005</td>\n",
       "      <td>October</td>\n",
       "      <td>89879.421429</td>\n",
       "    </tr>\n",
       "    <tr>\n",
       "      <th>17</th>\n",
       "      <td>2005</td>\n",
       "      <td>September</td>\n",
       "      <td>109423.776429</td>\n",
       "    </tr>\n",
       "    <tr>\n",
       "      <th>18</th>\n",
       "      <td>2006</td>\n",
       "      <td>April</td>\n",
       "      <td>134743.702447</td>\n",
       "    </tr>\n",
       "    <tr>\n",
       "      <th>19</th>\n",
       "      <td>2006</td>\n",
       "      <td>August</td>\n",
       "      <td>213863.917857</td>\n",
       "    </tr>\n",
       "    <tr>\n",
       "      <th>20</th>\n",
       "      <td>2006</td>\n",
       "      <td>December</td>\n",
       "      <td>150129.360714</td>\n",
       "    </tr>\n",
       "    <tr>\n",
       "      <th>21</th>\n",
       "      <td>2006</td>\n",
       "      <td>February</td>\n",
       "      <td>148478.986905</td>\n",
       "    </tr>\n",
       "    <tr>\n",
       "      <th>22</th>\n",
       "      <td>2006</td>\n",
       "      <td>January</td>\n",
       "      <td>136312.515714</td>\n",
       "    </tr>\n",
       "    <tr>\n",
       "      <th>23</th>\n",
       "      <td>2006</td>\n",
       "      <td>July</td>\n",
       "      <td>189088.681071</td>\n",
       "    </tr>\n",
       "    <tr>\n",
       "      <th>24</th>\n",
       "      <td>2006</td>\n",
       "      <td>June</td>\n",
       "      <td>155971.498571</td>\n",
       "    </tr>\n",
       "    <tr>\n",
       "      <th>25</th>\n",
       "      <td>2006</td>\n",
       "      <td>March</td>\n",
       "      <td>131720.289032</td>\n",
       "    </tr>\n",
       "    <tr>\n",
       "      <th>26</th>\n",
       "      <td>2006</td>\n",
       "      <td>May</td>\n",
       "      <td>143693.687143</td>\n",
       "    </tr>\n",
       "    <tr>\n",
       "      <th>27</th>\n",
       "      <td>2006</td>\n",
       "      <td>November</td>\n",
       "      <td>144283.947143</td>\n",
       "    </tr>\n",
       "    <tr>\n",
       "      <th>28</th>\n",
       "      <td>2006</td>\n",
       "      <td>October</td>\n",
       "      <td>172156.287143</td>\n",
       "    </tr>\n",
       "    <tr>\n",
       "      <th>29</th>\n",
       "      <td>2006</td>\n",
       "      <td>September</td>\n",
       "      <td>142392.073571</td>\n",
       "    </tr>\n",
       "  </tbody>\n",
       "</table>\n",
       "</div>"
      ],
      "text/plain": [
       "    Year      Month   Spend_Amount\n",
       "0   2004      April  124621.976429\n",
       "1   2004   February  136998.280000\n",
       "2   2004    January  144233.915179\n",
       "3   2004      March  133708.090714\n",
       "4   2004        May  153326.954286\n",
       "5   2004   November   79642.078571\n",
       "6   2004  September  171579.263571\n",
       "7   2005      April  146430.918929\n",
       "8   2005     August  141707.435357\n",
       "9   2005   December   84416.000000\n",
       "10  2005   February  154334.423869\n",
       "11  2005    January  192271.670714\n",
       "12  2005       July  120803.091429\n",
       "13  2005       June  190726.475714\n",
       "14  2005        May  154625.803000\n",
       "15  2005   November  178120.211667\n",
       "16  2005    October   89879.421429\n",
       "17  2005  September  109423.776429\n",
       "18  2006      April  134743.702447\n",
       "19  2006     August  213863.917857\n",
       "20  2006   December  150129.360714\n",
       "21  2006   February  148478.986905\n",
       "22  2006    January  136312.515714\n",
       "23  2006       July  189088.681071\n",
       "24  2006       June  155971.498571\n",
       "25  2006      March  131720.289032\n",
       "26  2006        May  143693.687143\n",
       "27  2006   November  144283.947143\n",
       "28  2006    October  172156.287143\n",
       "29  2006  September  142392.073571"
      ]
     },
     "execution_count": 30,
     "metadata": {},
     "output_type": "execute_result"
    }
   ],
   "source": [
    "avg_spend=CS.groupby([CS.Month.dt.year,CS.Month.dt.month_name()])[['Spend_Amount']].mean()\n",
    "avg_spend=avg_spend.rename_axis(['Year','Month']).reset_index()\n",
    "avg_spend"
   ]
  },
  {
   "cell_type": "markdown",
   "id": "2c87a678",
   "metadata": {
    "papermill": {
     "duration": 0.057703,
     "end_time": "2022-04-21T12:49:59.485002",
     "exception": false,
     "start_time": "2022-04-21T12:49:59.427299",
     "status": "completed"
    },
    "tags": []
   },
   "source": [
    "### d. What is the average monthly repayment by customers?"
   ]
  },
  {
   "cell_type": "code",
   "execution_count": 31,
   "id": "309cff38",
   "metadata": {
    "execution": {
     "iopub.execute_input": "2022-04-21T12:49:59.600069Z",
     "iopub.status.busy": "2022-04-21T12:49:59.599790Z",
     "iopub.status.idle": "2022-04-21T12:49:59.620978Z",
     "shell.execute_reply": "2022-04-21T12:49:59.620166Z"
    },
    "papermill": {
     "duration": 0.081287,
     "end_time": "2022-04-21T12:49:59.623151",
     "exception": false,
     "start_time": "2022-04-21T12:49:59.541864",
     "status": "completed"
    },
    "tags": []
   },
   "outputs": [
    {
     "data": {
      "text/html": [
       "<div>\n",
       "<style scoped>\n",
       "    .dataframe tbody tr th:only-of-type {\n",
       "        vertical-align: middle;\n",
       "    }\n",
       "\n",
       "    .dataframe tbody tr th {\n",
       "        vertical-align: top;\n",
       "    }\n",
       "\n",
       "    .dataframe thead th {\n",
       "        text-align: right;\n",
       "    }\n",
       "</style>\n",
       "<table border=\"1\" class=\"dataframe\">\n",
       "  <thead>\n",
       "    <tr style=\"text-align: right;\">\n",
       "      <th></th>\n",
       "      <th>Year</th>\n",
       "      <th>Month</th>\n",
       "      <th>Repayment_Amount</th>\n",
       "    </tr>\n",
       "  </thead>\n",
       "  <tbody>\n",
       "    <tr>\n",
       "      <th>0</th>\n",
       "      <td>2004</td>\n",
       "      <td>April</td>\n",
       "      <td>175632.658000</td>\n",
       "    </tr>\n",
       "    <tr>\n",
       "      <th>1</th>\n",
       "      <td>2004</td>\n",
       "      <td>February</td>\n",
       "      <td>125612.505556</td>\n",
       "    </tr>\n",
       "    <tr>\n",
       "      <th>2</th>\n",
       "      <td>2004</td>\n",
       "      <td>January</td>\n",
       "      <td>159971.502571</td>\n",
       "    </tr>\n",
       "    <tr>\n",
       "      <th>3</th>\n",
       "      <td>2004</td>\n",
       "      <td>March</td>\n",
       "      <td>177767.948000</td>\n",
       "    </tr>\n",
       "    <tr>\n",
       "      <th>4</th>\n",
       "      <td>2004</td>\n",
       "      <td>May</td>\n",
       "      <td>151310.396400</td>\n",
       "    </tr>\n",
       "    <tr>\n",
       "      <th>5</th>\n",
       "      <td>2004</td>\n",
       "      <td>November</td>\n",
       "      <td>119226.575333</td>\n",
       "    </tr>\n",
       "    <tr>\n",
       "      <th>6</th>\n",
       "      <td>2004</td>\n",
       "      <td>September</td>\n",
       "      <td>118926.025625</td>\n",
       "    </tr>\n",
       "    <tr>\n",
       "      <th>7</th>\n",
       "      <td>2005</td>\n",
       "      <td>April</td>\n",
       "      <td>121163.452000</td>\n",
       "    </tr>\n",
       "    <tr>\n",
       "      <th>8</th>\n",
       "      <td>2005</td>\n",
       "      <td>August</td>\n",
       "      <td>149984.104865</td>\n",
       "    </tr>\n",
       "    <tr>\n",
       "      <th>9</th>\n",
       "      <td>2005</td>\n",
       "      <td>December</td>\n",
       "      <td>179119.050833</td>\n",
       "    </tr>\n",
       "    <tr>\n",
       "      <th>10</th>\n",
       "      <td>2005</td>\n",
       "      <td>February</td>\n",
       "      <td>157356.791358</td>\n",
       "    </tr>\n",
       "    <tr>\n",
       "      <th>11</th>\n",
       "      <td>2005</td>\n",
       "      <td>January</td>\n",
       "      <td>181260.750000</td>\n",
       "    </tr>\n",
       "    <tr>\n",
       "      <th>12</th>\n",
       "      <td>2005</td>\n",
       "      <td>July</td>\n",
       "      <td>149944.928333</td>\n",
       "    </tr>\n",
       "    <tr>\n",
       "      <th>13</th>\n",
       "      <td>2005</td>\n",
       "      <td>June</td>\n",
       "      <td>97052.375833</td>\n",
       "    </tr>\n",
       "    <tr>\n",
       "      <th>14</th>\n",
       "      <td>2005</td>\n",
       "      <td>May</td>\n",
       "      <td>200121.848636</td>\n",
       "    </tr>\n",
       "    <tr>\n",
       "      <th>15</th>\n",
       "      <td>2005</td>\n",
       "      <td>November</td>\n",
       "      <td>169225.884048</td>\n",
       "    </tr>\n",
       "    <tr>\n",
       "      <th>16</th>\n",
       "      <td>2005</td>\n",
       "      <td>October</td>\n",
       "      <td>136268.268333</td>\n",
       "    </tr>\n",
       "    <tr>\n",
       "      <th>17</th>\n",
       "      <td>2005</td>\n",
       "      <td>September</td>\n",
       "      <td>73559.961667</td>\n",
       "    </tr>\n",
       "    <tr>\n",
       "      <th>18</th>\n",
       "      <td>2006</td>\n",
       "      <td>April</td>\n",
       "      <td>180529.321556</td>\n",
       "    </tr>\n",
       "    <tr>\n",
       "      <th>19</th>\n",
       "      <td>2006</td>\n",
       "      <td>August</td>\n",
       "      <td>161553.497500</td>\n",
       "    </tr>\n",
       "    <tr>\n",
       "      <th>20</th>\n",
       "      <td>2006</td>\n",
       "      <td>December</td>\n",
       "      <td>201158.939167</td>\n",
       "    </tr>\n",
       "    <tr>\n",
       "      <th>21</th>\n",
       "      <td>2006</td>\n",
       "      <td>February</td>\n",
       "      <td>188198.167436</td>\n",
       "    </tr>\n",
       "    <tr>\n",
       "      <th>22</th>\n",
       "      <td>2006</td>\n",
       "      <td>January</td>\n",
       "      <td>204422.038333</td>\n",
       "    </tr>\n",
       "    <tr>\n",
       "      <th>23</th>\n",
       "      <td>2006</td>\n",
       "      <td>July</td>\n",
       "      <td>170152.780811</td>\n",
       "    </tr>\n",
       "    <tr>\n",
       "      <th>24</th>\n",
       "      <td>2006</td>\n",
       "      <td>June</td>\n",
       "      <td>165429.070000</td>\n",
       "    </tr>\n",
       "    <tr>\n",
       "      <th>25</th>\n",
       "      <td>2006</td>\n",
       "      <td>March</td>\n",
       "      <td>154861.950196</td>\n",
       "    </tr>\n",
       "    <tr>\n",
       "      <th>26</th>\n",
       "      <td>2006</td>\n",
       "      <td>May</td>\n",
       "      <td>171270.320230</td>\n",
       "    </tr>\n",
       "    <tr>\n",
       "      <th>27</th>\n",
       "      <td>2006</td>\n",
       "      <td>November</td>\n",
       "      <td>145565.170370</td>\n",
       "    </tr>\n",
       "    <tr>\n",
       "      <th>28</th>\n",
       "      <td>2006</td>\n",
       "      <td>October</td>\n",
       "      <td>203969.589167</td>\n",
       "    </tr>\n",
       "    <tr>\n",
       "      <th>29</th>\n",
       "      <td>2006</td>\n",
       "      <td>September</td>\n",
       "      <td>199024.565833</td>\n",
       "    </tr>\n",
       "  </tbody>\n",
       "</table>\n",
       "</div>"
      ],
      "text/plain": [
       "    Year      Month  Repayment_Amount\n",
       "0   2004      April     175632.658000\n",
       "1   2004   February     125612.505556\n",
       "2   2004    January     159971.502571\n",
       "3   2004      March     177767.948000\n",
       "4   2004        May     151310.396400\n",
       "5   2004   November     119226.575333\n",
       "6   2004  September     118926.025625\n",
       "7   2005      April     121163.452000\n",
       "8   2005     August     149984.104865\n",
       "9   2005   December     179119.050833\n",
       "10  2005   February     157356.791358\n",
       "11  2005    January     181260.750000\n",
       "12  2005       July     149944.928333\n",
       "13  2005       June      97052.375833\n",
       "14  2005        May     200121.848636\n",
       "15  2005   November     169225.884048\n",
       "16  2005    October     136268.268333\n",
       "17  2005  September      73559.961667\n",
       "18  2006      April     180529.321556\n",
       "19  2006     August     161553.497500\n",
       "20  2006   December     201158.939167\n",
       "21  2006   February     188198.167436\n",
       "22  2006    January     204422.038333\n",
       "23  2006       July     170152.780811\n",
       "24  2006       June     165429.070000\n",
       "25  2006      March     154861.950196\n",
       "26  2006        May     171270.320230\n",
       "27  2006   November     145565.170370\n",
       "28  2006    October     203969.589167\n",
       "29  2006  September     199024.565833"
      ]
     },
     "execution_count": 31,
     "metadata": {},
     "output_type": "execute_result"
    }
   ],
   "source": [
    "avg_repayment=CR.groupby([CR.Month.dt.year,CR.Month.dt.month_name()])[['Repayment_Amount']].mean()\n",
    "avg_repayment=avg_repayment.rename_axis(['Year','Month']).reset_index()\n",
    "avg_repayment"
   ]
  },
  {
   "cell_type": "markdown",
   "id": "a7028459",
   "metadata": {
    "papermill": {
     "duration": 0.05705,
     "end_time": "2022-04-21T12:49:59.738471",
     "exception": false,
     "start_time": "2022-04-21T12:49:59.681421",
     "status": "completed"
    },
    "tags": []
   },
   "source": [
    "### e. If the monthly rate of interest is 2.9%, what is the profit for the bank for each month? (Profit is defined as interest earned on Monthly Profit. Monthly Profit = Monthly repayment– Monthly spend. Interest is earned only on positive profits and not on negative amounts)"
   ]
  },
  {
   "cell_type": "code",
   "execution_count": 32,
   "id": "163287b8",
   "metadata": {
    "execution": {
     "iopub.execute_input": "2022-04-21T12:49:59.855235Z",
     "iopub.status.busy": "2022-04-21T12:49:59.854961Z",
     "iopub.status.idle": "2022-04-21T12:49:59.880712Z",
     "shell.execute_reply": "2022-04-21T12:49:59.880059Z"
    },
    "papermill": {
     "duration": 0.086361,
     "end_time": "2022-04-21T12:49:59.882624",
     "exception": false,
     "start_time": "2022-04-21T12:49:59.796263",
     "status": "completed"
    },
    "tags": []
   },
   "outputs": [
    {
     "data": {
      "text/html": [
       "<div>\n",
       "<style scoped>\n",
       "    .dataframe tbody tr th:only-of-type {\n",
       "        vertical-align: middle;\n",
       "    }\n",
       "\n",
       "    .dataframe tbody tr th {\n",
       "        vertical-align: top;\n",
       "    }\n",
       "\n",
       "    .dataframe thead th {\n",
       "        text-align: right;\n",
       "    }\n",
       "</style>\n",
       "<table border=\"1\" class=\"dataframe\">\n",
       "  <thead>\n",
       "    <tr style=\"text-align: right;\">\n",
       "      <th></th>\n",
       "      <th>Year</th>\n",
       "      <th>Month</th>\n",
       "      <th>Spend_Amount</th>\n",
       "      <th>Repayment_Amount</th>\n",
       "      <th>Monthly Profit</th>\n",
       "      <th>Profit</th>\n",
       "    </tr>\n",
       "  </thead>\n",
       "  <tbody>\n",
       "    <tr>\n",
       "      <th>0</th>\n",
       "      <td>2004</td>\n",
       "      <td>April</td>\n",
       "      <td>124621.976429</td>\n",
       "      <td>175632.658000</td>\n",
       "      <td>51010.681571</td>\n",
       "      <td>1479.309766</td>\n",
       "    </tr>\n",
       "    <tr>\n",
       "      <th>1</th>\n",
       "      <td>2004</td>\n",
       "      <td>February</td>\n",
       "      <td>136998.280000</td>\n",
       "      <td>125612.505556</td>\n",
       "      <td>-11385.774444</td>\n",
       "      <td>0.000000</td>\n",
       "    </tr>\n",
       "    <tr>\n",
       "      <th>2</th>\n",
       "      <td>2004</td>\n",
       "      <td>January</td>\n",
       "      <td>144233.915179</td>\n",
       "      <td>159971.502571</td>\n",
       "      <td>15737.587392</td>\n",
       "      <td>456.390034</td>\n",
       "    </tr>\n",
       "    <tr>\n",
       "      <th>3</th>\n",
       "      <td>2004</td>\n",
       "      <td>March</td>\n",
       "      <td>133708.090714</td>\n",
       "      <td>177767.948000</td>\n",
       "      <td>44059.857286</td>\n",
       "      <td>1277.735861</td>\n",
       "    </tr>\n",
       "    <tr>\n",
       "      <th>4</th>\n",
       "      <td>2004</td>\n",
       "      <td>May</td>\n",
       "      <td>153326.954286</td>\n",
       "      <td>151310.396400</td>\n",
       "      <td>-2016.557886</td>\n",
       "      <td>0.000000</td>\n",
       "    </tr>\n",
       "    <tr>\n",
       "      <th>5</th>\n",
       "      <td>2004</td>\n",
       "      <td>November</td>\n",
       "      <td>79642.078571</td>\n",
       "      <td>119226.575333</td>\n",
       "      <td>39584.496762</td>\n",
       "      <td>1147.950406</td>\n",
       "    </tr>\n",
       "    <tr>\n",
       "      <th>6</th>\n",
       "      <td>2004</td>\n",
       "      <td>September</td>\n",
       "      <td>171579.263571</td>\n",
       "      <td>118926.025625</td>\n",
       "      <td>-52653.237946</td>\n",
       "      <td>0.000000</td>\n",
       "    </tr>\n",
       "    <tr>\n",
       "      <th>7</th>\n",
       "      <td>2005</td>\n",
       "      <td>April</td>\n",
       "      <td>146430.918929</td>\n",
       "      <td>121163.452000</td>\n",
       "      <td>-25267.466929</td>\n",
       "      <td>0.000000</td>\n",
       "    </tr>\n",
       "    <tr>\n",
       "      <th>8</th>\n",
       "      <td>2005</td>\n",
       "      <td>August</td>\n",
       "      <td>141707.435357</td>\n",
       "      <td>149984.104865</td>\n",
       "      <td>8276.669508</td>\n",
       "      <td>240.023416</td>\n",
       "    </tr>\n",
       "    <tr>\n",
       "      <th>9</th>\n",
       "      <td>2005</td>\n",
       "      <td>December</td>\n",
       "      <td>84416.000000</td>\n",
       "      <td>179119.050833</td>\n",
       "      <td>94703.050833</td>\n",
       "      <td>2746.388474</td>\n",
       "    </tr>\n",
       "    <tr>\n",
       "      <th>10</th>\n",
       "      <td>2005</td>\n",
       "      <td>February</td>\n",
       "      <td>154334.423869</td>\n",
       "      <td>157356.791358</td>\n",
       "      <td>3022.367489</td>\n",
       "      <td>87.648657</td>\n",
       "    </tr>\n",
       "    <tr>\n",
       "      <th>11</th>\n",
       "      <td>2005</td>\n",
       "      <td>January</td>\n",
       "      <td>192271.670714</td>\n",
       "      <td>181260.750000</td>\n",
       "      <td>-11010.920714</td>\n",
       "      <td>0.000000</td>\n",
       "    </tr>\n",
       "    <tr>\n",
       "      <th>12</th>\n",
       "      <td>2005</td>\n",
       "      <td>July</td>\n",
       "      <td>120803.091429</td>\n",
       "      <td>149944.928333</td>\n",
       "      <td>29141.836905</td>\n",
       "      <td>845.113270</td>\n",
       "    </tr>\n",
       "    <tr>\n",
       "      <th>13</th>\n",
       "      <td>2005</td>\n",
       "      <td>June</td>\n",
       "      <td>190726.475714</td>\n",
       "      <td>97052.375833</td>\n",
       "      <td>-93674.099881</td>\n",
       "      <td>0.000000</td>\n",
       "    </tr>\n",
       "    <tr>\n",
       "      <th>14</th>\n",
       "      <td>2005</td>\n",
       "      <td>May</td>\n",
       "      <td>154625.803000</td>\n",
       "      <td>200121.848636</td>\n",
       "      <td>45496.045636</td>\n",
       "      <td>1319.385323</td>\n",
       "    </tr>\n",
       "    <tr>\n",
       "      <th>15</th>\n",
       "      <td>2005</td>\n",
       "      <td>November</td>\n",
       "      <td>178120.211667</td>\n",
       "      <td>169225.884048</td>\n",
       "      <td>-8894.327619</td>\n",
       "      <td>0.000000</td>\n",
       "    </tr>\n",
       "    <tr>\n",
       "      <th>16</th>\n",
       "      <td>2005</td>\n",
       "      <td>October</td>\n",
       "      <td>89879.421429</td>\n",
       "      <td>136268.268333</td>\n",
       "      <td>46388.846905</td>\n",
       "      <td>1345.276560</td>\n",
       "    </tr>\n",
       "    <tr>\n",
       "      <th>17</th>\n",
       "      <td>2005</td>\n",
       "      <td>September</td>\n",
       "      <td>109423.776429</td>\n",
       "      <td>73559.961667</td>\n",
       "      <td>-35863.814762</td>\n",
       "      <td>0.000000</td>\n",
       "    </tr>\n",
       "    <tr>\n",
       "      <th>18</th>\n",
       "      <td>2006</td>\n",
       "      <td>April</td>\n",
       "      <td>134743.702447</td>\n",
       "      <td>180529.321556</td>\n",
       "      <td>45785.619109</td>\n",
       "      <td>1327.782954</td>\n",
       "    </tr>\n",
       "    <tr>\n",
       "      <th>19</th>\n",
       "      <td>2006</td>\n",
       "      <td>August</td>\n",
       "      <td>213863.917857</td>\n",
       "      <td>161553.497500</td>\n",
       "      <td>-52310.420357</td>\n",
       "      <td>0.000000</td>\n",
       "    </tr>\n",
       "    <tr>\n",
       "      <th>20</th>\n",
       "      <td>2006</td>\n",
       "      <td>December</td>\n",
       "      <td>150129.360714</td>\n",
       "      <td>201158.939167</td>\n",
       "      <td>51029.578452</td>\n",
       "      <td>1479.857775</td>\n",
       "    </tr>\n",
       "    <tr>\n",
       "      <th>21</th>\n",
       "      <td>2006</td>\n",
       "      <td>February</td>\n",
       "      <td>148478.986905</td>\n",
       "      <td>188198.167436</td>\n",
       "      <td>39719.180531</td>\n",
       "      <td>1151.856235</td>\n",
       "    </tr>\n",
       "    <tr>\n",
       "      <th>22</th>\n",
       "      <td>2006</td>\n",
       "      <td>January</td>\n",
       "      <td>136312.515714</td>\n",
       "      <td>204422.038333</td>\n",
       "      <td>68109.522619</td>\n",
       "      <td>1975.176156</td>\n",
       "    </tr>\n",
       "    <tr>\n",
       "      <th>23</th>\n",
       "      <td>2006</td>\n",
       "      <td>July</td>\n",
       "      <td>189088.681071</td>\n",
       "      <td>170152.780811</td>\n",
       "      <td>-18935.900261</td>\n",
       "      <td>0.000000</td>\n",
       "    </tr>\n",
       "    <tr>\n",
       "      <th>24</th>\n",
       "      <td>2006</td>\n",
       "      <td>June</td>\n",
       "      <td>155971.498571</td>\n",
       "      <td>165429.070000</td>\n",
       "      <td>9457.571429</td>\n",
       "      <td>274.269571</td>\n",
       "    </tr>\n",
       "    <tr>\n",
       "      <th>25</th>\n",
       "      <td>2006</td>\n",
       "      <td>March</td>\n",
       "      <td>131720.289032</td>\n",
       "      <td>154861.950196</td>\n",
       "      <td>23141.661164</td>\n",
       "      <td>671.108174</td>\n",
       "    </tr>\n",
       "    <tr>\n",
       "      <th>26</th>\n",
       "      <td>2006</td>\n",
       "      <td>May</td>\n",
       "      <td>143693.687143</td>\n",
       "      <td>171270.320230</td>\n",
       "      <td>27576.633087</td>\n",
       "      <td>799.722360</td>\n",
       "    </tr>\n",
       "    <tr>\n",
       "      <th>27</th>\n",
       "      <td>2006</td>\n",
       "      <td>November</td>\n",
       "      <td>144283.947143</td>\n",
       "      <td>145565.170370</td>\n",
       "      <td>1281.223228</td>\n",
       "      <td>37.155474</td>\n",
       "    </tr>\n",
       "    <tr>\n",
       "      <th>28</th>\n",
       "      <td>2006</td>\n",
       "      <td>October</td>\n",
       "      <td>172156.287143</td>\n",
       "      <td>203969.589167</td>\n",
       "      <td>31813.302024</td>\n",
       "      <td>922.585759</td>\n",
       "    </tr>\n",
       "    <tr>\n",
       "      <th>29</th>\n",
       "      <td>2006</td>\n",
       "      <td>September</td>\n",
       "      <td>142392.073571</td>\n",
       "      <td>199024.565833</td>\n",
       "      <td>56632.492262</td>\n",
       "      <td>1642.342276</td>\n",
       "    </tr>\n",
       "  </tbody>\n",
       "</table>\n",
       "</div>"
      ],
      "text/plain": [
       "    Year      Month   Spend_Amount  Repayment_Amount  Monthly Profit  \\\n",
       "0   2004      April  124621.976429     175632.658000    51010.681571   \n",
       "1   2004   February  136998.280000     125612.505556   -11385.774444   \n",
       "2   2004    January  144233.915179     159971.502571    15737.587392   \n",
       "3   2004      March  133708.090714     177767.948000    44059.857286   \n",
       "4   2004        May  153326.954286     151310.396400    -2016.557886   \n",
       "5   2004   November   79642.078571     119226.575333    39584.496762   \n",
       "6   2004  September  171579.263571     118926.025625   -52653.237946   \n",
       "7   2005      April  146430.918929     121163.452000   -25267.466929   \n",
       "8   2005     August  141707.435357     149984.104865     8276.669508   \n",
       "9   2005   December   84416.000000     179119.050833    94703.050833   \n",
       "10  2005   February  154334.423869     157356.791358     3022.367489   \n",
       "11  2005    January  192271.670714     181260.750000   -11010.920714   \n",
       "12  2005       July  120803.091429     149944.928333    29141.836905   \n",
       "13  2005       June  190726.475714      97052.375833   -93674.099881   \n",
       "14  2005        May  154625.803000     200121.848636    45496.045636   \n",
       "15  2005   November  178120.211667     169225.884048    -8894.327619   \n",
       "16  2005    October   89879.421429     136268.268333    46388.846905   \n",
       "17  2005  September  109423.776429      73559.961667   -35863.814762   \n",
       "18  2006      April  134743.702447     180529.321556    45785.619109   \n",
       "19  2006     August  213863.917857     161553.497500   -52310.420357   \n",
       "20  2006   December  150129.360714     201158.939167    51029.578452   \n",
       "21  2006   February  148478.986905     188198.167436    39719.180531   \n",
       "22  2006    January  136312.515714     204422.038333    68109.522619   \n",
       "23  2006       July  189088.681071     170152.780811   -18935.900261   \n",
       "24  2006       June  155971.498571     165429.070000     9457.571429   \n",
       "25  2006      March  131720.289032     154861.950196    23141.661164   \n",
       "26  2006        May  143693.687143     171270.320230    27576.633087   \n",
       "27  2006   November  144283.947143     145565.170370     1281.223228   \n",
       "28  2006    October  172156.287143     203969.589167    31813.302024   \n",
       "29  2006  September  142392.073571     199024.565833    56632.492262   \n",
       "\n",
       "         Profit  \n",
       "0   1479.309766  \n",
       "1      0.000000  \n",
       "2    456.390034  \n",
       "3   1277.735861  \n",
       "4      0.000000  \n",
       "5   1147.950406  \n",
       "6      0.000000  \n",
       "7      0.000000  \n",
       "8    240.023416  \n",
       "9   2746.388474  \n",
       "10    87.648657  \n",
       "11     0.000000  \n",
       "12   845.113270  \n",
       "13     0.000000  \n",
       "14  1319.385323  \n",
       "15     0.000000  \n",
       "16  1345.276560  \n",
       "17     0.000000  \n",
       "18  1327.782954  \n",
       "19     0.000000  \n",
       "20  1479.857775  \n",
       "21  1151.856235  \n",
       "22  1975.176156  \n",
       "23     0.000000  \n",
       "24   274.269571  \n",
       "25   671.108174  \n",
       "26   799.722360  \n",
       "27    37.155474  \n",
       "28   922.585759  \n",
       "29  1642.342276  "
      ]
     },
     "execution_count": 32,
     "metadata": {},
     "output_type": "execute_result"
    }
   ],
   "source": [
    "e=pd.merge(left=avg_spend,right=avg_repayment,on=['Year','Month'])\n",
    "e['Monthly Profit']=e.Repayment_Amount-e.Spend_Amount\n",
    "e['Profit']=np.where(e['Monthly Profit']>0,2.9*(e['Monthly Profit'])/100,0)\n",
    "e"
   ]
  },
  {
   "cell_type": "markdown",
   "id": "793baa73",
   "metadata": {
    "papermill": {
     "duration": 0.059036,
     "end_time": "2022-04-21T12:50:00.000787",
     "exception": false,
     "start_time": "2022-04-21T12:49:59.941751",
     "status": "completed"
    },
    "tags": []
   },
   "source": [
    "### f. What are the top 5 product types?"
   ]
  },
  {
   "cell_type": "code",
   "execution_count": 33,
   "id": "786e932b",
   "metadata": {
    "execution": {
     "iopub.execute_input": "2022-04-21T12:50:00.121583Z",
     "iopub.status.busy": "2022-04-21T12:50:00.120661Z",
     "iopub.status.idle": "2022-04-21T12:50:00.131787Z",
     "shell.execute_reply": "2022-04-21T12:50:00.131178Z"
    },
    "papermill": {
     "duration": 0.073384,
     "end_time": "2022-04-21T12:50:00.133552",
     "exception": false,
     "start_time": "2022-04-21T12:50:00.060168",
     "status": "completed"
    },
    "tags": []
   },
   "outputs": [
    {
     "data": {
      "text/plain": [
       "0           PETRO\n",
       "1          CAMERA\n",
       "2            FOOD\n",
       "3      AIR TICKET\n",
       "4    TRAIN TICKET\n",
       "Name: Type, dtype: object"
      ]
     },
     "execution_count": 33,
     "metadata": {},
     "output_type": "execute_result"
    }
   ],
   "source": [
    "CS.groupby('Type')['Spend_Amount'].count().reset_index().sort_values(by='Spend_Amount',ascending=False).head(5).reset_index(drop=True).iloc[:,0]"
   ]
  },
  {
   "cell_type": "markdown",
   "id": "386c1b52",
   "metadata": {
    "papermill": {
     "duration": 0.0578,
     "end_time": "2022-04-21T12:50:00.249822",
     "exception": false,
     "start_time": "2022-04-21T12:50:00.192022",
     "status": "completed"
    },
    "tags": []
   },
   "source": [
    "### g. Which city is having maximum spend?"
   ]
  },
  {
   "cell_type": "code",
   "execution_count": 34,
   "id": "479ecf32",
   "metadata": {
    "execution": {
     "iopub.execute_input": "2022-04-21T12:50:00.367303Z",
     "iopub.status.busy": "2022-04-21T12:50:00.367021Z",
     "iopub.status.idle": "2022-04-21T12:50:00.376052Z",
     "shell.execute_reply": "2022-04-21T12:50:00.375462Z"
    },
    "papermill": {
     "duration": 0.070106,
     "end_time": "2022-04-21T12:50:00.377760",
     "exception": false,
     "start_time": "2022-04-21T12:50:00.307654",
     "status": "completed"
    },
    "tags": []
   },
   "outputs": [
    {
     "data": {
      "text/plain": [
       "'COCHIN'"
      ]
     },
     "execution_count": 34,
     "metadata": {},
     "output_type": "execute_result"
    }
   ],
   "source": [
    "CS.groupby('City')[['Spend_Amount']].sum().sort_values(by='Spend_Amount',ascending=False).head(1).index[0]"
   ]
  },
  {
   "cell_type": "markdown",
   "id": "6e3ace61",
   "metadata": {
    "papermill": {
     "duration": 0.058094,
     "end_time": "2022-04-21T12:50:00.494186",
     "exception": false,
     "start_time": "2022-04-21T12:50:00.436092",
     "status": "completed"
    },
    "tags": []
   },
   "source": [
    "### h. Which age group is spending more money?"
   ]
  },
  {
   "cell_type": "code",
   "execution_count": 35,
   "id": "2437aa61",
   "metadata": {
    "execution": {
     "iopub.execute_input": "2022-04-21T12:50:00.612918Z",
     "iopub.status.busy": "2022-04-21T12:50:00.612403Z",
     "iopub.status.idle": "2022-04-21T12:50:00.625006Z",
     "shell.execute_reply": "2022-04-21T12:50:00.624451Z"
    },
    "papermill": {
     "duration": 0.074108,
     "end_time": "2022-04-21T12:50:00.626854",
     "exception": false,
     "start_time": "2022-04-21T12:50:00.552746",
     "status": "completed"
    },
    "tags": []
   },
   "outputs": [
    {
     "data": {
      "text/plain": [
       "'41-50'"
      ]
     },
     "execution_count": 35,
     "metadata": {},
     "output_type": "execute_result"
    }
   ],
   "source": [
    "Age_range=[18,30,40,50,60,70,80]\n",
    "labels=['18-30','31-40','41-50','51-60','61-70','71-80']\n",
    "CS['Age group']=pd.cut(CS['Age'],bins=Age_range,labels=labels)\n",
    "CS.groupby('Age group')[['Spend_Amount']].sum().sort_values(by='Spend_Amount',ascending=False).index[0]"
   ]
  },
  {
   "cell_type": "markdown",
   "id": "89f7a442",
   "metadata": {
    "papermill": {
     "duration": 0.058461,
     "end_time": "2022-04-21T12:50:00.746268",
     "exception": false,
     "start_time": "2022-04-21T12:50:00.687807",
     "status": "completed"
    },
    "tags": []
   },
   "source": [
    "### i. Who are the top 10 customers in terms of repayment?"
   ]
  },
  {
   "cell_type": "code",
   "execution_count": 36,
   "id": "8dfdb564",
   "metadata": {
    "execution": {
     "iopub.execute_input": "2022-04-21T12:50:00.865776Z",
     "iopub.status.busy": "2022-04-21T12:50:00.865228Z",
     "iopub.status.idle": "2022-04-21T12:50:00.877811Z",
     "shell.execute_reply": "2022-04-21T12:50:00.877214Z"
    },
    "papermill": {
     "duration": 0.074371,
     "end_time": "2022-04-21T12:50:00.879639",
     "exception": false,
     "start_time": "2022-04-21T12:50:00.805268",
     "status": "completed"
    },
    "tags": []
   },
   "outputs": [
    {
     "data": {
      "text/html": [
       "<div>\n",
       "<style scoped>\n",
       "    .dataframe tbody tr th:only-of-type {\n",
       "        vertical-align: middle;\n",
       "    }\n",
       "\n",
       "    .dataframe tbody tr th {\n",
       "        vertical-align: top;\n",
       "    }\n",
       "\n",
       "    .dataframe thead th {\n",
       "        text-align: right;\n",
       "    }\n",
       "</style>\n",
       "<table border=\"1\" class=\"dataframe\">\n",
       "  <thead>\n",
       "    <tr style=\"text-align: right;\">\n",
       "      <th></th>\n",
       "      <th>Repayment_Amount</th>\n",
       "    </tr>\n",
       "    <tr>\n",
       "      <th>Customer</th>\n",
       "      <th></th>\n",
       "    </tr>\n",
       "  </thead>\n",
       "  <tbody>\n",
       "    <tr>\n",
       "      <th>A61</th>\n",
       "      <td>10539142.91</td>\n",
       "    </tr>\n",
       "    <tr>\n",
       "      <th>A60</th>\n",
       "      <td>9876290.74</td>\n",
       "    </tr>\n",
       "    <tr>\n",
       "      <th>A13</th>\n",
       "      <td>9572000.66</td>\n",
       "    </tr>\n",
       "    <tr>\n",
       "      <th>A43</th>\n",
       "      <td>8489871.46</td>\n",
       "    </tr>\n",
       "    <tr>\n",
       "      <th>A45</th>\n",
       "      <td>8448334.87</td>\n",
       "    </tr>\n",
       "    <tr>\n",
       "      <th>A12</th>\n",
       "      <td>8334760.16</td>\n",
       "    </tr>\n",
       "    <tr>\n",
       "      <th>A14</th>\n",
       "      <td>7943268.63</td>\n",
       "    </tr>\n",
       "    <tr>\n",
       "      <th>A44</th>\n",
       "      <td>7744730.12</td>\n",
       "    </tr>\n",
       "    <tr>\n",
       "      <th>A39</th>\n",
       "      <td>7622483.30</td>\n",
       "    </tr>\n",
       "    <tr>\n",
       "      <th>A42</th>\n",
       "      <td>7615460.86</td>\n",
       "    </tr>\n",
       "  </tbody>\n",
       "</table>\n",
       "</div>"
      ],
      "text/plain": [
       "          Repayment_Amount\n",
       "Customer                  \n",
       "A61            10539142.91\n",
       "A60             9876290.74\n",
       "A13             9572000.66\n",
       "A43             8489871.46\n",
       "A45             8448334.87\n",
       "A12             8334760.16\n",
       "A14             7943268.63\n",
       "A44             7744730.12\n",
       "A39             7622483.30\n",
       "A42             7615460.86"
      ]
     },
     "execution_count": 36,
     "metadata": {},
     "output_type": "execute_result"
    }
   ],
   "source": [
    "CR.groupby('Customer')[['Repayment_Amount']].sum().sort_values(by='Repayment_Amount',ascending=False).head(10)"
   ]
  },
  {
   "cell_type": "markdown",
   "id": "c6dcd462",
   "metadata": {
    "papermill": {
     "duration": 0.06603,
     "end_time": "2022-04-21T12:50:01.004906",
     "exception": false,
     "start_time": "2022-04-21T12:50:00.938876",
     "status": "completed"
    },
    "tags": []
   },
   "source": [
    "### 3. Calculate the city wise spend on each product on yearly basis. Also include a graphical representation for the same."
   ]
  },
  {
   "cell_type": "code",
   "execution_count": 37,
   "id": "70caf802",
   "metadata": {
    "execution": {
     "iopub.execute_input": "2022-04-21T12:50:01.130045Z",
     "iopub.status.busy": "2022-04-21T12:50:01.129488Z",
     "iopub.status.idle": "2022-04-21T12:50:02.224195Z",
     "shell.execute_reply": "2022-04-21T12:50:02.223186Z"
    },
    "papermill": {
     "duration": 1.158893,
     "end_time": "2022-04-21T12:50:02.226691",
     "exception": false,
     "start_time": "2022-04-21T12:50:01.067798",
     "status": "completed"
    },
    "tags": []
   },
   "outputs": [
    {
     "data": {
      "image/png": "[encoded data removed]",
      "text/plain": [
       "<Figure size 1018.75x300 with 3 Axes>"
      ]
     },
     "metadata": {},
     "output_type": "display_data"
    }
   ],
   "source": [
    "\n",
    "Q3=CS.groupby([CS.Month.dt.year,'City','Product'])[['Spend_Amount']].sum().reset_index().rename(columns={'Month':'Year'})\n",
    "a=sns.FacetGrid(Q3,col='Year',hue='Product')\n",
    "b=a.map(sns.barplot,'City','Spend_Amount').add_legend()\n",
    "for i in b.axes.flat:\n",
    "    for label in i.get_xticklabels():\n",
    "        label.set_rotation(90)\n",
    "plt.show()"
   ]
  },
  {
   "cell_type": "markdown",
   "id": "f05e0e72",
   "metadata": {
    "papermill": {
     "duration": 0.061304,
     "end_time": "2022-04-21T12:50:02.350057",
     "exception": false,
     "start_time": "2022-04-21T12:50:02.288753",
     "status": "completed"
    },
    "tags": []
   },
   "source": [
    "## 4. Create graphs for\n",
    "### a. Monthly comparison of total spends, city wise"
   ]
  },
  {
   "cell_type": "code",
   "execution_count": 30,
   "id": "a3a1dfd6",
   "metadata": {
    "execution": {
     "iopub.execute_input": "2022-04-21T12:50:02.473340Z",
     "iopub.status.busy": "2022-04-21T12:50:02.472795Z",
     "iopub.status.idle": "2022-04-21T12:50:02.987067Z",
     "shell.execute_reply": "2022-04-21T12:50:02.986144Z"
    },
    "papermill": {
     "duration": 0.578742,
     "end_time": "2022-04-21T12:50:02.989482",
     "exception": false,
     "start_time": "2022-04-21T12:50:02.410740",
     "status": "completed"
    },
    "tags": []
   },
   "outputs": [
    {
     "data": {
      "image/png": "[encoded data removed]",
      "text/plain": [
       "<Figure size 432x288 with 1 Axes>"
      ]
     },
     "metadata": {},
     "output_type": "display_data"
    }
   ],
   "source": [
    "a=CS.groupby(['City',CS.Month.dt.month_name()])[['Spend_Amount']].sum().reset_index()\n",
    "pd.pivot_table(data=CS,index='City',columns=CS.Month.dt.month_name(),values='Spend_Amount',aggfunc='sum').plot.bar(stacked=True)\n",
    "plt.legend(bbox_to_anchor=(1.4,1))\n",
    "plt.ticklabel_format(style='plain',axis='y')\n",
    "plt.xlabel('City')\n",
    "plt.ylabel('Total Spend')\n",
    "plt.show()\n"
   ]
  },
  {
   "cell_type": "markdown",
   "id": "bbda3dbe",
   "metadata": {
    "papermill": {
     "duration": 0.0619,
     "end_time": "2022-04-21T12:50:03.114797",
     "exception": false,
     "start_time": "2022-04-21T12:50:03.052897",
     "status": "completed"
    },
    "tags": []
   },
   "source": [
    "###  b .Comparison of yearly spend on air tickets"
   ]
  },
  {
   "cell_type": "code",
   "execution_count": 31,
   "id": "ff4c1647",
   "metadata": {
    "execution": {
     "iopub.execute_input": "2022-04-21T12:50:03.242219Z",
     "iopub.status.busy": "2022-04-21T12:50:03.241694Z",
     "iopub.status.idle": "2022-04-21T12:50:03.359242Z",
     "shell.execute_reply": "2022-04-21T12:50:03.358136Z"
    },
    "papermill": {
     "duration": 0.184498,
     "end_time": "2022-04-21T12:50:03.362499",
     "exception": false,
     "start_time": "2022-04-21T12:50:03.178001",
     "status": "completed"
    },
    "tags": []
   },
   "outputs": [
    {
     "data": {
      "image/png": "[encoded data removed]",
      "text/plain": [
       "<Figure size 432x288 with 1 Axes>"
      ]
     },
     "metadata": {},
     "output_type": "display_data"
    }
   ],
   "source": [
    "b=CS.query('Type==\"AIR TICKET\"').groupby(CS.Month.dt.year)[['Spend_Amount']].sum()\n",
    "plt.pie(b.Spend_Amount,labels=b.index,autopct='%0.2f %%')\n",
    "plt.show()\n"
   ]
  },
  {
   "cell_type": "markdown",
   "id": "774fb53b",
   "metadata": {
    "papermill": {
     "duration": 0.062844,
     "end_time": "2022-04-21T12:50:03.527665",
     "exception": false,
     "start_time": "2022-04-21T12:50:03.464821",
     "status": "completed"
    },
    "tags": []
   },
   "source": [
    "### c. Comparison of monthly spend for each product (look for any seasonality that exists in terms of spend)"
   ]
  },
  {
   "cell_type": "code",
   "execution_count": 32,
   "id": "4a534edb",
   "metadata": {
    "execution": {
     "iopub.execute_input": "2022-04-21T12:50:03.655636Z",
     "iopub.status.busy": "2022-04-21T12:50:03.654988Z",
     "iopub.status.idle": "2022-04-21T12:50:04.349755Z",
     "shell.execute_reply": "2022-04-21T12:50:04.348773Z"
    },
    "papermill": {
     "duration": 0.761267,
     "end_time": "2022-04-21T12:50:04.351858",
     "exception": false,
     "start_time": "2022-04-21T12:50:03.590591",
     "status": "completed"
    },
    "tags": []
   },
   "outputs": [
    {
     "data": {
      "image/png": "[encoded data removed]",
      "text/plain": [
       "<Figure size 936x432 with 1 Axes>"
      ]
     },
     "metadata": {},
     "output_type": "display_data"
    }
   ],
   "source": [
    "pd.pivot_table(data=CS,index=[CS.Month.dt.year,CS.Month.dt.month],columns='Product',values='Spend_Amount',aggfunc='sum').plot.bar(stacked=True,figsize=(13,6))\n",
    "plt.ticklabel_format(style='plain',axis='y')\n",
    "plt.show()"
   ]
  },
  {
   "cell_type": "markdown",
   "id": "4f69aadf",
   "metadata": {
    "papermill": {
     "duration": 0.064688,
     "end_time": "2022-04-21T12:50:04.481815",
     "exception": false,
     "start_time": "2022-04-21T12:50:04.417127",
     "status": "completed"
    },
    "tags": []
   },
   "source": [
    "## 5. Write user defined PYTHON function to perform the following analysis:\n",
    "### You need to find top 10 customers for each city in terms of their repayment amount bydifferent products and by different time periods i.e. year or month. The user should be able to specify the product (Gold/Silver/Platinum) and time period (yearly or monthly) and the function should automatically take these inputs while identifying the top 10 customers"
   ]
  },
  {
   "cell_type": "code",
   "execution_count": 33,
   "id": "62dee021",
   "metadata": {
    "execution": {
     "iopub.execute_input": "2022-04-21T12:50:04.613370Z",
     "iopub.status.busy": "2022-04-21T12:50:04.613088Z",
     "iopub.status.idle": "2022-04-21T12:50:04.632409Z",
     "shell.execute_reply": "2022-04-21T12:50:04.631411Z"
    },
    "papermill": {
     "duration": 0.0879,
     "end_time": "2022-04-21T12:50:04.634747",
     "exception": false,
     "start_time": "2022-04-21T12:50:04.546847",
     "status": "completed"
    },
    "tags": []
   },
   "outputs": [],
   "source": [
    "def top10(product,Timeperiod):\n",
    "    if  product=='Gold' and Timeperiod=='monthly':\n",
    "        result=CR.query('Product==\"Gold\"').groupby(['City',CR.Month.dt.year.rename('Year'),CR.Month.dt.month,'Customer'])[['Repayment_Amount']].sum().sort_values(by=['City','Year','Month','Repayment_Amount'],ascending=[True,True,True,False]).reset_index()\n",
    "        return result.groupby(['City','Year','Month']).head(10)\n",
    "    if  product=='Gold' and Timeperiod=='yearly':\n",
    "        result=CR.query('Product==\"Gold\"').groupby(['City',CR.Month.dt.year.rename('Year'),'Customer'])[['Repayment_Amount']].sum().sort_values(by=['City','Year','Repayment_Amount'],ascending=[True,True,False]).reset_index()\n",
    "        return result.groupby(['City','Year','Month']).head(10)\n",
    "    if  product=='Silver' and Timeperiod=='monthly':\n",
    "        result=CR.query('Product==\"Silver\"').groupby(['City',CR.Month.dt.year.rename('Year'),CR.Month.dt.month,'Customer'])[['Repayment_Amount']].sum().sort_values(by=['City','Year','Month','Repayment_Amount'],ascending=[True,True,True,False]).reset_index()\n",
    "        return result.groupby(['City','Year','Month']).head(10)\n",
    "    if  product=='Silver' and Timeperiod=='yearly':\n",
    "        result=CR.query('Product==\"Silver\"').groupby(['City',CR.Month.dt.year.rename('Year'),'Customer'])[['Repayment_Amount']].sum().sort_values(by=['City','Year','Repayment_Amount'],ascending=[True,True,False]).reset_index()\n",
    "        return result.groupby(['City','Year','Month']).head(10)\n",
    "    if  product=='Platinum' and Timeperiod=='monthly':\n",
    "        result=CR.query('Product==\"Platimum\"').groupby(['City',CR.Month.dt.year.rename('Year'),CR.Month.dt.month,'Customer'])[['Repayment_Amount']].sum().sort_values(by=['City','Year','Month','Repayment_Amount'],ascending=[True,True,True,False]).reset_index()\n",
    "        return result.groupby(['City','Year','Month']).head(10)\n",
    "    if  product=='Platinum' and Timeperiod=='yearly':\n",
    "        result=CR.query('Product==\"Platimum\"').groupby(['City',CR.Month.dt.year.rename('Year'),'Customer'])[['Repayment_Amount']].sum().sort_values(by=['City','Year','Repayment_Amount'],ascending=[True,True,False]).reset_index()\n",
    "        return result.groupby(['City','Year','Month']).head(10)"
   ]
  },
  {
   "cell_type": "code",
   "execution_count": 34,
   "id": "8ba98d47",
   "metadata": {
    "execution": {
     "iopub.execute_input": "2022-04-21T12:50:04.765982Z",
     "iopub.status.busy": "2022-04-21T12:50:04.765710Z",
     "iopub.status.idle": "2022-04-21T12:50:04.799987Z",
     "shell.execute_reply": "2022-04-21T12:50:04.799414Z"
    },
    "papermill": {
     "duration": 0.101534,
     "end_time": "2022-04-21T12:50:04.801816",
     "exception": false,
     "start_time": "2022-04-21T12:50:04.700282",
     "status": "completed"
    },
    "tags": []
   },
   "outputs": [
    {
     "data": {
      "text/html": [
       "<div>\n",
       "<style scoped>\n",
       "    .dataframe tbody tr th:only-of-type {\n",
       "        vertical-align: middle;\n",
       "    }\n",
       "\n",
       "    .dataframe tbody tr th {\n",
       "        vertical-align: top;\n",
       "    }\n",
       "\n",
       "    .dataframe thead th {\n",
       "        text-align: right;\n",
       "    }\n",
       "</style>\n",
       "<table border=\"1\" class=\"dataframe\">\n",
       "  <thead>\n",
       "    <tr style=\"text-align: right;\">\n",
       "      <th></th>\n",
       "      <th>City</th>\n",
       "      <th>Year</th>\n",
       "      <th>Month</th>\n",
       "      <th>Customer</th>\n",
       "      <th>Repayment_Amount</th>\n",
       "    </tr>\n",
       "  </thead>\n",
       "  <tbody>\n",
       "    <tr>\n",
       "      <th>0</th>\n",
       "      <td>BANGALORE</td>\n",
       "      <td>2004</td>\n",
       "      <td>1</td>\n",
       "      <td>A1</td>\n",
       "      <td>2241833.41</td>\n",
       "    </tr>\n",
       "    <tr>\n",
       "      <th>1</th>\n",
       "      <td>BANGALORE</td>\n",
       "      <td>2004</td>\n",
       "      <td>1</td>\n",
       "      <td>A43</td>\n",
       "      <td>1906497.47</td>\n",
       "    </tr>\n",
       "    <tr>\n",
       "      <th>2</th>\n",
       "      <td>BANGALORE</td>\n",
       "      <td>2004</td>\n",
       "      <td>1</td>\n",
       "      <td>A13</td>\n",
       "      <td>1627668.57</td>\n",
       "    </tr>\n",
       "    <tr>\n",
       "      <th>3</th>\n",
       "      <td>BANGALORE</td>\n",
       "      <td>2004</td>\n",
       "      <td>1</td>\n",
       "      <td>A14</td>\n",
       "      <td>993114.87</td>\n",
       "    </tr>\n",
       "    <tr>\n",
       "      <th>4</th>\n",
       "      <td>BANGALORE</td>\n",
       "      <td>2004</td>\n",
       "      <td>1</td>\n",
       "      <td>A30</td>\n",
       "      <td>379512.30</td>\n",
       "    </tr>\n",
       "    <tr>\n",
       "      <th>...</th>\n",
       "      <td>...</td>\n",
       "      <td>...</td>\n",
       "      <td>...</td>\n",
       "      <td>...</td>\n",
       "      <td>...</td>\n",
       "    </tr>\n",
       "    <tr>\n",
       "      <th>300</th>\n",
       "      <td>TRIVANDRUM</td>\n",
       "      <td>2006</td>\n",
       "      <td>2</td>\n",
       "      <td>A28</td>\n",
       "      <td>318811.88</td>\n",
       "    </tr>\n",
       "    <tr>\n",
       "      <th>301</th>\n",
       "      <td>TRIVANDRUM</td>\n",
       "      <td>2006</td>\n",
       "      <td>3</td>\n",
       "      <td>A28</td>\n",
       "      <td>1547067.86</td>\n",
       "    </tr>\n",
       "    <tr>\n",
       "      <th>302</th>\n",
       "      <td>TRIVANDRUM</td>\n",
       "      <td>2006</td>\n",
       "      <td>4</td>\n",
       "      <td>A28</td>\n",
       "      <td>115326.71</td>\n",
       "    </tr>\n",
       "    <tr>\n",
       "      <th>303</th>\n",
       "      <td>TRIVANDRUM</td>\n",
       "      <td>2006</td>\n",
       "      <td>5</td>\n",
       "      <td>A28</td>\n",
       "      <td>930071.85</td>\n",
       "    </tr>\n",
       "    <tr>\n",
       "      <th>304</th>\n",
       "      <td>TRIVANDRUM</td>\n",
       "      <td>2006</td>\n",
       "      <td>7</td>\n",
       "      <td>A28</td>\n",
       "      <td>380460.40</td>\n",
       "    </tr>\n",
       "  </tbody>\n",
       "</table>\n",
       "<p>305 rows × 5 columns</p>\n",
       "</div>"
      ],
      "text/plain": [
       "           City  Year  Month Customer  Repayment_Amount\n",
       "0     BANGALORE  2004      1       A1        2241833.41\n",
       "1     BANGALORE  2004      1      A43        1906497.47\n",
       "2     BANGALORE  2004      1      A13        1627668.57\n",
       "3     BANGALORE  2004      1      A14         993114.87\n",
       "4     BANGALORE  2004      1      A30         379512.30\n",
       "..          ...   ...    ...      ...               ...\n",
       "300  TRIVANDRUM  2006      2      A28         318811.88\n",
       "301  TRIVANDRUM  2006      3      A28        1547067.86\n",
       "302  TRIVANDRUM  2006      4      A28         115326.71\n",
       "303  TRIVANDRUM  2006      5      A28         930071.85\n",
       "304  TRIVANDRUM  2006      7      A28         380460.40\n",
       "\n",
       "[305 rows x 5 columns]"
      ]
     },
     "execution_count": 34,
     "metadata": {},
     "output_type": "execute_result"
    }
   ],
   "source": [
    "top10('Gold','monthly')"
   ]
  },
  {
   "cell_type": "code",
   "execution_count": null,
   "id": "28dc831b",
   "metadata": {
    "papermill": {
     "duration": 0.064636,
     "end_time": "2022-04-21T12:50:04.931523",
     "exception": false,
     "start_time": "2022-04-21T12:50:04.866887",
     "status": "completed"
    },
    "tags": []
   },
   "outputs": [],
   "source": []
  }
 ],
 "metadata": {
  "kernelspec": {
   "display_name": "Python 3 (ipykernel)",
   "language": "python",
   "name": "python3"
  },
  "language_info": {
   "codemirror_mode": {
    "name": "ipython",
    "version": 3
   },
   "file_extension": ".py",
   "mimetype": "text/x-python",
   "name": "python",
   "nbconvert_exporter": "python",
   "pygments_lexer": "ipython3",
   "version": "3.11.3"
  },
  "papermill": {
   "default_parameters": {},
   "duration": 21.857583,
   "end_time": "2022-04-21T12:50:05.719019",
   "environment_variables": {},
   "exception": null,
   "input_path": "__notebook__.ipynb",
   "output_path": "__notebook__.ipynb",
   "parameters": {},
   "start_time": "2022-04-21T12:49:43.861436",
   "version": "2.3.4"
  }
 },
 "nbformat": 4,
 "nbformat_minor": 5
}
